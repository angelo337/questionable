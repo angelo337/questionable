{
 "cells": [
  {
   "cell_type": "markdown",
   "metadata": {},
   "source": [
    "# Question Answering with PyTorch Transformers: Part 1\n",
    "\n",
    "Article for this notebook: https://medium.com/@patonw/question-answering-with-pytorch-transformers-part-1-8736196bf20e\n",
    "\n",
    "> In the first part of this series we’ll look at the problem of question answering and the SQUAD datasets. Then we’ll see how the Transformers’ pipeline API allows us to easily use pre-trained models to answer questions.\n",
    ">\n",
    "> In later parts we’ll explore how to build systems around it that are generally useful to the average person. There have been many academic articles written on the topics we’ll explore. However, I want to focus on the engineering aspects and demonstrate how simple it is to build useful systems by leveraging a handful of high quality open-source libraries.\n",
    "\n",
    "Skip ahead to Part 2 & 3 for the meat.\n",
    "\n",
    "This is just an exploration of the SQUAD2.0 dataset."
   ]
  },
  {
   "cell_type": "code",
   "execution_count": 1,
   "metadata": {},
   "outputs": [],
   "source": [
    "!/bin/bash -c \"[[ ! -f train-v2.0.json ]] && wget https://rajpurkar.github.io/SQuAD-explorer/dataset/train-v2.0.json\""
   ]
  },
  {
   "cell_type": "code",
   "execution_count": 2,
   "metadata": {},
   "outputs": [],
   "source": [
    "import os\n",
    "import random\n",
    "import pandas as pd\n",
    "import json"
   ]
  },
  {
   "cell_type": "code",
   "execution_count": 3,
   "metadata": {},
   "outputs": [
    {
     "data": {
      "text/plain": [
       "(dict_keys(['version', 'data']), list, 442)"
      ]
     },
     "execution_count": 3,
     "metadata": {},
     "output_type": "execute_result"
    }
   ],
   "source": [
    "with open(\"train-v2.0.json\") as f:\n",
    "    doc = json.load(f)\n",
    "doc.keys(), type(doc[\"data\"]), len(doc[\"data\"])"
   ]
  },
  {
   "cell_type": "code",
   "execution_count": 8,
   "metadata": {},
   "outputs": [
    {
     "data": {
      "text/plain": [
       "(dict_keys(['title', 'paragraphs']), 'Beyoncé')"
      ]
     },
     "execution_count": 8,
     "metadata": {},
     "output_type": "execute_result"
    }
   ],
   "source": [
    "doc[\"data\"][0].keys(), doc[\"data\"][0][\"title\"]"
   ]
  },
  {
   "cell_type": "code",
   "execution_count": 14,
   "metadata": {},
   "outputs": [
    {
     "data": {
      "text/plain": [
       "(66, dict_keys(['qas', 'context']), 15)"
      ]
     },
     "execution_count": 14,
     "metadata": {},
     "output_type": "execute_result"
    }
   ],
   "source": [
    "len(doc[\"data\"][0][\"paragraphs\"]), doc[\"data\"][0][\"paragraphs\"][0].keys(), len(doc[\"data\"][0][\"paragraphs\"][0][\"qas\"])"
   ]
  },
  {
   "cell_type": "code",
   "execution_count": 11,
   "metadata": {},
   "outputs": [
    {
     "data": {
      "text/plain": [
       "'Beyoncé Giselle Knowles-Carter (/biːˈjɒnseɪ/ bee-YON-say) (born September 4, 1981) is an American singer, songwriter, record producer and actress. Born and raised in Houston, Texas, she performed in various singing and dancing competitions as a child, and rose to fame in the late 1990s as lead singer of R&B girl-group Destiny\\'s Child. Managed by her father, Mathew Knowles, the group became one of the world\\'s best-selling girl groups of all time. Their hiatus saw the release of Beyoncé\\'s debut album, Dangerously in Love (2003), which established her as a solo artist worldwide, earned five Grammy Awards and featured the Billboard Hot 100 number-one singles \"Crazy in Love\" and \"Baby Boy\".'"
      ]
     },
     "execution_count": 11,
     "metadata": {},
     "output_type": "execute_result"
    }
   ],
   "source": [
    "doc[\"data\"][0][\"paragraphs\"][0][\"context\"]"
   ]
  },
  {
   "cell_type": "code",
   "execution_count": 15,
   "metadata": {},
   "outputs": [
    {
     "data": {
      "text/plain": [
       "{'question': 'When did Beyonce start becoming popular?',\n",
       " 'id': '56be85543aeaaa14008c9063',\n",
       " 'answers': [{'text': 'in the late 1990s', 'answer_start': 269}],\n",
       " 'is_impossible': False}"
      ]
     },
     "execution_count": 15,
     "metadata": {},
     "output_type": "execute_result"
    }
   ],
   "source": [
    "doc[\"data\"][0][\"paragraphs\"][0][\"qas\"][0]"
   ]
  },
  {
   "cell_type": "code",
   "execution_count": 21,
   "metadata": {},
   "outputs": [
    {
     "data": {
      "text/plain": [
       "(19035, 86821, 43498)"
      ]
     },
     "execution_count": 21,
     "metadata": {},
     "output_type": "execute_result"
    }
   ],
   "source": [
    "paragraphs = []\n",
    "questions = []\n",
    "impossible = []\n",
    "for topic in doc[\"data\"]:\n",
    "    for pgraph in topic[\"paragraphs\"]:\n",
    "        paragraphs.append(pgraph[\"context\"])\n",
    "        for qa in pgraph[\"qas\"]:\n",
    "            if not qa[\"is_impossible\"]:\n",
    "                questions.append((qa[\"question\"], pgraph[\"context\"]))\n",
    "            else:\n",
    "                impossible.append((qa[\"question\"], pgraph[\"context\"]))\n",
    "        \n",
    "len(paragraphs), len(questions), len(impossible)"
   ]
  },
  {
   "cell_type": "code",
   "execution_count": 22,
   "metadata": {},
   "outputs": [
    {
     "data": {
      "text/plain": [
       "[\"Baptists are individuals who comprise a group of Christian denominations and churches that subscribe to a doctrine that baptism should be performed only for professing believers (believer's baptism, as opposed to infant baptism), and that it must be done by complete immersion (as opposed to affusion or sprinkling). Other tenets of Baptist churches include soul competency (liberty), salvation through faith alone, Scripture alone as the rule of faith and practice, and the autonomy of the local congregation. Baptists recognize two ministerial offices, elders and deacons. Baptist churches are widely considered to be Protestant churches, though some Baptists disavow this identity.\",\n",
       " 'In 1913, Elmer McCollum discovered the first vitamins, fat-soluble vitamin A, and water-soluble vitamin B (in 1915; now known to be a complex of several water-soluble vitamins) and named vitamin C as the then-unknown substance preventing scurvy. Lafayette Mendel and Thomas Osborne also performed pioneering work on vitamins A and B. In 1919, Sir Edward Mellanby incorrectly identified rickets as a vitamin A deficiency because he could cure it in dogs with cod liver oil. In 1922, McCollum destroyed the vitamin A in cod liver oil, but found that it still cured rickets. Also in 1922, H.M. Evans and L.S. Bishop discover vitamin E as essential for rat pregnancy, originally calling it \"food factor X\" until 1925.']"
      ]
     },
     "execution_count": 22,
     "metadata": {},
     "output_type": "execute_result"
    }
   ],
   "source": [
    "random.sample(paragraphs, 2)"
   ]
  },
  {
   "cell_type": "code",
   "execution_count": 23,
   "metadata": {},
   "outputs": [
    {
     "data": {
      "text/plain": [
       "[('What social group grew as a result of the industrial revolution? ',\n",
       "  'The origins of the department store lay in the growth of the conspicuous consumer society at the turn of the 19th century. As the Industrial Revolution accelerated economy expansion, the affluent middle-class grew in size and wealth. This urbanized social group, sharing a culture of consumption and changing fashion, was the catalyst for the retail revolution. As rising prosperity and social mobility increased the number of people, especially women (who found they could shop unaccompanied at department stores without damaging their reputation), with disposable income in the late Georgian period, window shopping was transformed into a leisure activity and entrepreneurs, like the potter Josiah Wedgwood, pioneered the use of marketing techniques to influence the prevailing tastes and preferences of society.'),\n",
       " ('Around when did the United States and United Kingdom began to develop different versions of cultural studies?',\n",
       "  'Scholars in the United Kingdom and the United States developed somewhat different versions of cultural studies after the late 1970s. The British version of cultural studies had originated in the 1950s and 1960s, mainly under the influence first of Richard Hoggart, E. P. Thompson, and Raymond Williams, and later that of Stuart Hall and others at the Centre for Contemporary Cultural Studies at the University of Birmingham. This included overtly political, left-wing views, and criticisms of popular culture as \"capitalist\" mass culture; it absorbed some of the ideas of the Frankfurt School critique of the \"culture industry\" (i.e. mass culture). This emerges in the writings of early British cultural-studies scholars and their influences: see the work of (for example) Raymond Williams, Stuart Hall, Paul Willis, and Paul Gilroy.'),\n",
       " ('where are the islands of Tristan da Cunha located?',\n",
       "  'Tristan da Cunha /ˈtrɪstən də ˈkuːnjə/, colloquially Tristan, is both a remote group of volcanic islands in the south Atlantic Ocean and the main island of that group. It is the most remote inhabited archipelago in the world, lying 2,000 kilometres (1,200 mi) from the nearest inhabited land, Saint Helena, 2,400 kilometres (1,500 mi) from the nearest continental land, South Africa, and 3,360 kilometres (2,090 mi) from South America. The territory consists of the main island, also named Tristan da Cunha, which has a north–south length of 11.27 kilometres (7.00 mi) and has an area of 98 square kilometres (38 sq mi), along with the smaller, uninhabited Nightingale Islands and the wildlife reserves of Inaccessible and Gough Islands.'),\n",
       " ('What is a major means of the spread of diarrhea disease?',\n",
       "  'Given that water contamination is a major means of transmitting diarrheal disease, efforts to provide clean water supply and improved sanitation have the potential to dramatically cut the rate of disease incidence. In fact, it has been proposed that we might expect an 88% reduction in child mortality resulting from diarrheal disease as a result of improved water sanitation and hygiene. Similarly, a meta-analysis of numerous studies on improving water supply and sanitation shows a 22–27% reduction in disease incidence, and a 21–30% reduction in mortality rate associated with diarrheal disease.'),\n",
       " ('Who is considered to be the first comic creator in America?',\n",
       "  \"The European, American, and Japanese comics traditions have followed different paths. Europeans have seen their tradition as beginning with the Swiss Rodolphe Töpffer from as early as 1827 and Americans have seen the origin of theirs in Richard F. Outcault's 1890s newspaper strip The Yellow Kid, though many Americans have come to recognize Töpffer's precedence. Japan had a long prehistory of satirical cartoons and comics leading up to the World War II era. The ukiyo-e artist Hokusai popularized the Japanese term for comics and cartooning, manga, in the early 19th century. In the post-war era modern Japanese comics began to flourish when Osamu Tezuka produced a prolific body of work. Towards the close of the 20th century, these three traditions converged in a trend towards book-length comics: the comics album in Europe, the tankōbon[a] in Japan, and the graphic novel in the English-speaking countries.\")]"
      ]
     },
     "execution_count": 23,
     "metadata": {},
     "output_type": "execute_result"
    }
   ],
   "source": [
    "random.sample(questions, 5)"
   ]
  },
  {
   "cell_type": "code",
   "execution_count": 24,
   "metadata": {},
   "outputs": [
    {
     "data": {
      "text/plain": [
       "[('Who fought against the strength and awareness of the Orthodox Jewry?',\n",
       "  'In reaction to the emergence of Reform Judaism, a group of traditionalist German Jews emerged in support of some of the values of the Haskalah, but also wanted to defend the classic, traditional interpretation of Jewish law and tradition. This group was led by those who opposed the establishment of a new temple in Hamburg , as reflected in the booklet \"Ele Divrei HaBerit\". As a group of Reform Rabbis convened in Braunschweig, Rabbi Jacob Ettlinger of Altona published a manifesto entitled \"Shlomei Emunei Yisrael\" in German and Hebrew, having 177 Rabbis sign on. At this time the first Orthodox Jewish periodical, \"Der Treue Zions Waechter\", was launched with the Hebrew supplement \"Shomer Zion HaNe\\'eman\" [1845 - 1855]. In later years it was Rav Ettlinger\\'s students Rabbi Samson Raphael Hirsch and Rabbi Azriel Hildesheimer of Berlin who deepened the awareness and strength of Orthodox Jewry. Rabbi Samson Raphael Hirsch commented in 1854:'),\n",
       " ('What kind of symmetry do annelids lack?',\n",
       "  'The annelids are bilaterally symmetrical, triploblastic, coelomate, invertebrate organisms. They also have parapodia for locomotion. Most textbooks still use the traditional division into polychaetes (almost all marine), oligochaetes (which include earthworms) and leech-like species. Cladistic research since 1997 has radically changed this scheme, viewing leeches as a sub-group of oligochaetes and oligochaetes as a sub-group of polychaetes. In addition, the Pogonophora, Echiura and Sipuncula, previously regarded as separate phyla, are now regarded as sub-groups of polychaetes. Annelids are considered members of the Lophotrochozoa, a \"super-phylum\" of protostomes that also includes molluscs, brachiopods, flatworms and nemerteans.'),\n",
       " ('How has the advanced circuit system helped pilots?',\n",
       "  'At extremely large airports, a circuit is in place but not usually used. Rather, aircraft (usually only commercial with long routes) request approach clearance while they are still hours away from the airport, often before they even take off from their departure point. Large airports have a frequency called Clearance Delivery which is used by departing aircraft specifically for this purpose. This then allows aircraft to take the most direct approach path to the runway and land without worrying about interference from other aircraft. While this system keeps the airspace free and is simpler for pilots, it requires detailed knowledge of how aircraft are planning to use the airport ahead of time and is therefore only possible with large commercial airliners on pre-scheduled flights. The system has recently become so advanced that controllers can predict whether an aircraft will be delayed on landing before it even takes off; that aircraft can then be delayed on the ground, rather than wasting expensive fuel waiting in the air.'),\n",
       " ('How does the 1901 Encyclopedia Britannica define \"literature?\"',\n",
       "  'The value judgement definition of literature considers it to exclusively include writing that possesses high quality or distinction, forming part of the so-called belles-lettres (\\'fine writing\\') tradition. This is the definition used in the Encyclopædia Britannica Eleventh Edition (1910–11) when it classifies literature as \"the best expression of the best thought reduced to writing.\" However, this has the result that there is no objective definition of what constitutes \"literature\"; anything can be literature, and anything which is universally regarded as literature has the potential to be excluded, since value-judgements can change over time.'),\n",
       " ('What is retention head?',\n",
       "  'Hops contain several characteristics that brewers desire in beer. Hops contribute a bitterness that balances the sweetness of the malt; the bitterness of beers is measured on the International Bitterness Units scale. Hops contribute floral, citrus, and herbal aromas and flavours to beer. Hops have an antibiotic effect that favours the activity of brewer\\'s yeast over less desirable microorganisms and aids in \"head retention\", the length of time that a foamy head created by carbonation will last. The acidity of hops is a preservative.')]"
      ]
     },
     "execution_count": 24,
     "metadata": {},
     "output_type": "execute_result"
    }
   ],
   "source": [
    "random.sample(impossible, 5)"
   ]
  },
  {
   "cell_type": "code",
   "execution_count": null,
   "metadata": {},
   "outputs": [],
   "source": []
  }
 ],
 "metadata": {
  "kernelspec": {
   "display_name": "Python 3",
   "language": "python",
   "name": "python3"
  },
  "language_info": {
   "codemirror_mode": {
    "name": "ipython",
    "version": 3
   },
   "file_extension": ".py",
   "mimetype": "text/x-python",
   "name": "python",
   "nbconvert_exporter": "python",
   "pygments_lexer": "ipython3",
   "version": "3.6.8"
  }
 },
 "nbformat": 4,
 "nbformat_minor": 2
}
