{
 "cells": [
  {
   "cell_type": "markdown",
   "metadata": {},
   "source": [
    "# Question Answering with PyTorch Transformers: Part 1\n",
    "\n",
    "Article for this notebook: https://medium.com/@patonw/question-answering-with-pytorch-transformers-part-1-8736196bf20e\n",
    "\n",
    "> In the first part of this series we’ll look at the problem of question answering and the SQUAD datasets. Then we’ll see how the Transformers’ pipeline API allows us to easily use pre-trained models to answer questions.\n",
    ">\n",
    "> In later parts we’ll explore how to build systems around it that are generally useful to the average person. There have been many academic articles written on the topics we’ll explore. However, I want to focus on the engineering aspects and demonstrate how simple it is to build useful systems by leveraging a handful of high quality open-source libraries.\n",
    "\n",
    "Skip ahead to Part 2 & 3 for the meat.\n",
    "\n",
    "This is just an exploration of the SQUAD2.0 dataset."
   ]
  },
  {
   "cell_type": "code",
   "execution_count": 1,
   "metadata": {},
   "outputs": [],
   "source": [
    "# Prepare to run in paperspace. You should manage these with pipenv or conda on your own machine.\n",
    "# Run init_container from a Terminal window for debugging\n",
    "# I'd rather not have the output filling up the screen here.\n",
    "%run init_container.py"
   ]
  },
  {
   "cell_type": "code",
   "execution_count": 2,
   "metadata": {},
   "outputs": [],
   "source": [
    "from constants import *"
   ]
  },
  {
   "cell_type": "code",
   "execution_count": 3,
   "metadata": {},
   "outputs": [],
   "source": [
    "import os\n",
    "import random\n",
    "import pandas as pd\n",
    "import json"
   ]
  },
  {
   "cell_type": "code",
   "execution_count": 4,
   "metadata": {},
   "outputs": [
    {
     "data": {
      "text/plain": [
       "(dict_keys(['version', 'data']), list, 442)"
      ]
     },
     "execution_count": 4,
     "metadata": {},
     "output_type": "execute_result"
    }
   ],
   "source": [
    "with open(SQUAD_TRAIN) as f:\n",
    "    doc = json.load(f)\n",
    "doc.keys(), type(doc[\"data\"]), len(doc[\"data\"])"
   ]
  },
  {
   "cell_type": "code",
   "execution_count": 5,
   "metadata": {},
   "outputs": [
    {
     "data": {
      "text/plain": [
       "(dict_keys(['title', 'paragraphs']), 'Beyoncé')"
      ]
     },
     "execution_count": 5,
     "metadata": {},
     "output_type": "execute_result"
    }
   ],
   "source": [
    "doc[\"data\"][0].keys(), doc[\"data\"][0][\"title\"]"
   ]
  },
  {
   "cell_type": "code",
   "execution_count": 6,
   "metadata": {},
   "outputs": [
    {
     "data": {
      "text/plain": [
       "(66, dict_keys(['qas', 'context']), 15)"
      ]
     },
     "execution_count": 6,
     "metadata": {},
     "output_type": "execute_result"
    }
   ],
   "source": [
    "len(doc[\"data\"][0][\"paragraphs\"]), doc[\"data\"][0][\"paragraphs\"][0].keys(), len(doc[\"data\"][0][\"paragraphs\"][0][\"qas\"])"
   ]
  },
  {
   "cell_type": "code",
   "execution_count": 7,
   "metadata": {},
   "outputs": [
    {
     "data": {
      "text/plain": [
       "'Beyoncé Giselle Knowles-Carter (/biːˈjɒnseɪ/ bee-YON-say) (born September 4, 1981) is an American singer, songwriter, record producer and actress. Born and raised in Houston, Texas, she performed in various singing and dancing competitions as a child, and rose to fame in the late 1990s as lead singer of R&B girl-group Destiny\\'s Child. Managed by her father, Mathew Knowles, the group became one of the world\\'s best-selling girl groups of all time. Their hiatus saw the release of Beyoncé\\'s debut album, Dangerously in Love (2003), which established her as a solo artist worldwide, earned five Grammy Awards and featured the Billboard Hot 100 number-one singles \"Crazy in Love\" and \"Baby Boy\".'"
      ]
     },
     "execution_count": 7,
     "metadata": {},
     "output_type": "execute_result"
    }
   ],
   "source": [
    "doc[\"data\"][0][\"paragraphs\"][0][\"context\"]"
   ]
  },
  {
   "cell_type": "code",
   "execution_count": 8,
   "metadata": {},
   "outputs": [
    {
     "data": {
      "text/plain": [
       "{'question': 'When did Beyonce start becoming popular?',\n",
       " 'id': '56be85543aeaaa14008c9063',\n",
       " 'answers': [{'text': 'in the late 1990s', 'answer_start': 269}],\n",
       " 'is_impossible': False}"
      ]
     },
     "execution_count": 8,
     "metadata": {},
     "output_type": "execute_result"
    }
   ],
   "source": [
    "doc[\"data\"][0][\"paragraphs\"][0][\"qas\"][0]"
   ]
  },
  {
   "cell_type": "code",
   "execution_count": 9,
   "metadata": {},
   "outputs": [
    {
     "data": {
      "text/plain": [
       "(19035, 86821, 43498)"
      ]
     },
     "execution_count": 9,
     "metadata": {},
     "output_type": "execute_result"
    }
   ],
   "source": [
    "paragraphs = []\n",
    "questions = []\n",
    "impossible = []\n",
    "for topic in doc[\"data\"]:\n",
    "    for pgraph in topic[\"paragraphs\"]:\n",
    "        paragraphs.append(pgraph[\"context\"])\n",
    "        for qa in pgraph[\"qas\"]:\n",
    "            if not qa[\"is_impossible\"]:\n",
    "                questions.append((qa[\"question\"], pgraph[\"context\"]))\n",
    "            else:\n",
    "                impossible.append((qa[\"question\"], pgraph[\"context\"]))\n",
    "        \n",
    "len(paragraphs), len(questions), len(impossible)"
   ]
  },
  {
   "cell_type": "code",
   "execution_count": 10,
   "metadata": {},
   "outputs": [
    {
     "data": {
      "text/plain": [
       "[\"The battle in the Marshall Islands caused irreparable damage, especially on Japanese bases. During the American bombing, the islands' population suffered from lack of food and various injuries. U.S. attacks started in mid-1943, and caused half the Japanese garrison of 5,100 people in the atoll Mili to die from hunger by August 1945.\",\n",
       " 'The amount of crossover between the AC chart and the Hot 100 has varied based on how much the passing pop music trends of the times appealed to adult listeners. Not many disco or new wave songs were particularly successful on the AC chart during the late 1970s and early 1980s, and much of the hip-hop and harder rock music featured on CHR formats later in the decade would have been unacceptable on AC radio.']"
      ]
     },
     "execution_count": 10,
     "metadata": {},
     "output_type": "execute_result"
    }
   ],
   "source": [
    "random.sample(paragraphs, 2)"
   ]
  },
  {
   "cell_type": "code",
   "execution_count": 11,
   "metadata": {},
   "outputs": [
    {
     "data": {
      "text/plain": [
       "[('What are the intercellular junctions unique to animal cells?',\n",
       "  'All animals have eukaryotic cells, surrounded by a characteristic extracellular matrix composed of collagen and elastic glycoproteins. This may be calcified to form structures like shells, bones, and spicules. During development, it forms a relatively flexible framework upon which cells can move about and be reorganized, making complex structures possible. In contrast, other multicellular organisms, like plants and fungi, have cells held in place by cell walls, and so develop by progressive growth. Also, unique to animal cells are the following intercellular junctions: tight junctions, gap junctions, and desmosomes.'),\n",
       " ('What did the biggest star on the flag of China in 1949 represent?',\n",
       "  'After the Communist Party of China took power in 1949, the flag of China became a red flag with a large star symbolizing the Communist Party, and smaller stars symbolizing workers, peasants, the urban middle class and rural middle class. The flag of the Communist Party of China became a red banner with a hammer and sickle, similar to that on the Soviet flag. In the 1950s and 1960s, other Communist regimes such as Vietnam and Laos also adopted red flags. Some Communist countries, such as Cuba, chose to keep their old flags; and other countries used red flags which had nothing to do with Communism or socialism; the red flag of Nepal, for instance, represents the national flower.'),\n",
       " ('What does deliberately entering the wrong password enough consecutive times cause?',\n",
       "  'Denial of service attacks are designed to make a machine or network resource unavailable to its intended users. Attackers can deny service to individual victims, such as by deliberately entering a wrong password enough consecutive times to cause the victim account to be locked, or they may overload the capabilities of a machine or network and block all users at once. While a network attack from a single IP address can be blocked by adding a new firewall rule, many forms of Distributed denial of service (DDoS) attacks are possible, where the attack comes from a large number of points – and defending is much more difficult. Such attacks can originate from the zombie computers of a botnet, but a range of other techniques are possible including reflection and amplification attacks, where innocent systems are fooled into sending traffic to the victim.'),\n",
       " ('What is one example of what racial quotas were replaced with?',\n",
       "  'To accommodate the ruling in Hopwood v. Texas banning any use of race in school admissions, the State of Texas passed a law guaranteeing entry to any state university if a student finished in the top 10% of their graduating class. Florida and California have also replaced racial quotas with class rank and other criteria. Class rank tends to benefit top students at less competitive high schools, to the detriment of students at more competitive high schools. This effect, however, may be intentional since less-funded, less competitive schools are more likely to be schools where minority enrollment is high. Critics argue that class rank is more a measure of one\\'s peers than of one\\'s self. The top 10% rule adds racial diversity only because schools are still highly racially segregated because of residential patterns. The class rank rule has the same consequence as traditional affirmative action: opening schools to students who would otherwise not be admitted had the given school used a holistic, merit-based approach. From 1996 to 1998, Texas had merit-based admission to its state universities, and minority enrollment dropped. The state\\'s adoption of the \"top 10 percent\" rule returned minority enrollment to pre-1996 levels.'),\n",
       " ('What is the largest base of shooting films and TV dramas in China?',\n",
       "  'The eleven prefecture-level divisions of Zhejiang are subdivided into 90 county-level divisions (36 districts, 20 county-level cities, 33 counties, and one autonomous county). Those are in turn divided into 1,570 township-level divisions (761 towns, 505 townships, 14 ethnic townships, and 290 subdistricts). Hengdian belongs to Jinhua, which is the largest base of shooting films and TV dramas in China. Hengdian is called \"China\\'s Hollywood\".')]"
      ]
     },
     "execution_count": 11,
     "metadata": {},
     "output_type": "execute_result"
    }
   ],
   "source": [
    "random.sample(questions, 5)"
   ]
  },
  {
   "cell_type": "code",
   "execution_count": 12,
   "metadata": {},
   "outputs": [
    {
     "data": {
      "text/plain": [
       "[(' Who rejected the HDI?',\n",
       "  'The Human Development Index (HDI) is a composite statistic of life expectancy, education, and income per capita indicators, which are used to rank countries into four tiers of human development. A country scores higher HDI when the life expectancy at birth is longer, the education period is longer, and the income per capita is higher. The HDI was developed by the Pakistani economist Mahbub ul Haq, often framed in terms of whether people are able to \"be\" and \"do\" desirable things in their life, and was published by the United Nations Development Programme.'),\n",
       " (\"What quality hasn't LEDs been used as?\",\n",
       "  'LEDs have also been used as a medium-quality voltage reference in electronic circuits. The forward voltage drop (e.g. about 1.7 V for a normal red LED) can be used instead of a Zener diode in low-voltage regulators. Red LEDs have the flattest I/V curve above the knee. Nitride-based LEDs have a fairly steep I/V curve and are useless for this purpose. Although LED forward voltage is far more current-dependent than a Zener diode, Zener diodes with breakdown voltages below 3 V are not widely available.'),\n",
       " ('Who was the first African country to get internet?',\n",
       "  'Somalia established its first ISP in 1999, one of the last countries in Africa to get connected to the Internet. According to the telecommunications resource Balancing Act, growth in internet connectivity has since then grown considerably, with around 53% of the entire nation covered as of 2009. Both internet commerce and telephony have consequently become among the quickest growing local businesses.'),\n",
       " (\"What was 10% of Iraq's military budget to be invested in?\",\n",
       "  'Dannatt criticised a remnant \"Cold War mentality\", with military expenditures based on retaining a capability against a direct conventional strategic threat; He said currently only 10% of the MoD\\'s equipment programme budget between 2003 and 2018 was to be invested in the \"land environment\"—at a time when Britain was engaged in land-based wars in Afghanistan and Iraq.'),\n",
       " ('Who created the first computer worm?',\n",
       "  'In 1988, only 60,000 computers were connected to the Internet, and most were mainframes, minicomputers and professional workstations. On November 2, 1988, many started to slow down, because they were running a malicious code that demanded processor time and that spread itself to other computers – the first internet \"computer worm\". The software was traced back to 23-year-old Cornell University graduate student Robert Tappan Morris, Jr. who said \\'he wanted to count how many machines were connected to the Internet\\'.')]"
      ]
     },
     "execution_count": 12,
     "metadata": {},
     "output_type": "execute_result"
    }
   ],
   "source": [
    "random.sample(impossible, 5)"
   ]
  },
  {
   "cell_type": "code",
   "execution_count": null,
   "metadata": {},
   "outputs": [],
   "source": []
  }
 ],
 "metadata": {
  "kernelspec": {
   "display_name": "Python 3",
   "language": "python",
   "name": "python3"
  },
  "language_info": {
   "codemirror_mode": {
    "name": "ipython",
    "version": 3
   },
   "file_extension": ".py",
   "mimetype": "text/x-python",
   "name": "python",
   "nbconvert_exporter": "python",
   "pygments_lexer": "ipython3",
   "version": "3.6.9"
  }
 },
 "nbformat": 4,
 "nbformat_minor": 2
}
