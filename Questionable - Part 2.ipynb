{
 "cells": [
  {
   "cell_type": "markdown",
   "metadata": {},
   "source": [
    "# Question Answering with PyTorch Transformers: Part 2\n",
    "## A simple vector index with scikit-learn\n",
    "\n",
    "Article for this notebook: https://medium.com/@patonw/question-answering-with-pytorch-transformers-part-2-a31900294673\n",
    "\n",
    "> In Part 1 we briefly examined the problem of question answering in machine learning and how recent breakthroughs have greatly improved the quality of answers produced by computer systems.\n",
    ">\n",
    "> Using the pipeline API Transformers library we were able to run a pre-trained model in a few lines of code. In this article we’ll prototype an information retrieval system around it. In later articles we’ll turn that into web services that can be queried by browsers and mobile apps."
   ]
  },
  {
   "cell_type": "code",
   "execution_count": null,
   "metadata": {
    "scrolled": false
   },
   "outputs": [],
   "source": [
    "# Prepare to run in paperspace. You should manage these with pipenv or conda on your own machine.\n",
    "\n",
    "!pip install torch transformers sklearn spacy[cuda100] pyarrow\n",
    "!python -m spacy download en_core_web_sm"
   ]
  },
  {
   "cell_type": "code",
   "execution_count": 2,
   "metadata": {},
   "outputs": [],
   "source": [
    "import os\n",
    "import requests\n",
    "import random\n",
    "import pickle\n",
    "\n",
    "import pandas as pd\n",
    "import json\n",
    "import sklearn\n",
    "import spacy\n",
    "\n",
    "import numpy as np\n",
    "import torch\n",
    "import torch.nn.functional as F\n",
    "from itertools import islice\n",
    "from tqdm import tqdm\n",
    "\n",
    "from sklearn.feature_extraction.text import TfidfVectorizer\n",
    "from transformers import *"
   ]
  },
  {
   "cell_type": "code",
   "execution_count": 3,
   "metadata": {},
   "outputs": [],
   "source": [
    "SQUAD_URL = \"https://rajpurkar.github.io/SQuAD-explorer/dataset/train-v2.0.json\"\n",
    "SQUAD_TRAIN = \"data/train-v2.0.json\"\n",
    "LEMMA_CACHE = \"cache/lemmas.feather\"\n",
    "VECTOR_CACHE = \"cache/vectors.pickle\""
   ]
  },
  {
   "cell_type": "code",
   "execution_count": 4,
   "metadata": {},
   "outputs": [],
   "source": [
    "spacy.prefer_gpu()\n",
    "sp = spacy.load(\"en_core_web_sm\")"
   ]
  },
  {
   "cell_type": "markdown",
   "metadata": {},
   "source": [
    "### Extract Questions from SQUAD2.0"
   ]
  },
  {
   "cell_type": "markdown",
   "metadata": {},
   "source": [
    "Download dataset if not present."
   ]
  },
  {
   "cell_type": "code",
   "execution_count": 5,
   "metadata": {},
   "outputs": [],
   "source": [
    "if not os.path.isdir(\"data\"):\n",
    "    os.mkdir(\"data\")\n",
    "if not os.path.isdir(\"cache\"):\n",
    "    os.mkdir(\"cache\")\n",
    "    \n",
    "if not os.path.isfile(SQUAD_TRAIN):\n",
    "    response = requests.get(SQUAD_URL, stream=True)\n",
    "\n",
    "    with open(SQUAD_TRAIN, \"wb\") as handle:\n",
    "        for data in tqdm(response.iter_content()):\n",
    "            handle.write(data)"
   ]
  },
  {
   "cell_type": "code",
   "execution_count": 6,
   "metadata": {},
   "outputs": [
    {
     "data": {
      "text/plain": [
       "(dict_keys(['version', 'data']), list, 442)"
      ]
     },
     "execution_count": 6,
     "metadata": {},
     "output_type": "execute_result"
    }
   ],
   "source": [
    "with open(SQUAD_TRAIN) as f:\n",
    "    doc = json.load(f)\n",
    "doc.keys(), type(doc[\"data\"]), len(doc[\"data\"])"
   ]
  },
  {
   "cell_type": "code",
   "execution_count": 7,
   "metadata": {},
   "outputs": [
    {
     "data": {
      "text/plain": [
       "(19035,\n",
       " 86821,\n",
       " ['Mexico City has numerous museums dedicated to art, including Mexican colonial, modern and contemporary art, and international art. The Museo Tamayo was opened in the mid-1980s to house the collection of international contemporary art donated by famed Mexican (born in the state of Oaxaca) painter Rufino Tamayo. The collection includes pieces by Picasso, Klee, Kandinsky, Warhol and many others, though most of the collection is stored while visiting exhibits are shown. The Museo de Arte Moderno (Museum of Modern Art) is a repository of Mexican artists from the 20th century, including Rivera, Orozco, Siqueiros, Kahlo, Gerzso, Carrington, Tamayo, among others, and also regularly hosts temporary exhibits of international modern art. In southern Mexico City, the Museo Carrillo Gil (Carrillo Gil Museum) showcases avant-garde artists, as does the University Museum/Contemporary Art (Museo Universitario Arte Contemporáneo – or MUAC), designed by famed Mexican architect Teodoro González de León, inaugurated in late 2008.',\n",
       "  \"Following the 1974–75 Loans Affair, the Malcolm Fraser led Liberal-Country Party Coalition argued that the Whitlam Government was incompetent and delayed passage of the Government's money bills in the Senate, until the government would promise a new election. Whitlam refused, Fraser insisted leading to the divisive 1975 Australian constitutional crisis. The deadlock came to an end when the Whitlam government was dismissed by the Governor-General, Sir John Kerr on 11 November 1975 and Fraser was installed as caretaker Prime Minister, pending an election. Fraser won in a landslide at the resulting 1975 election.\"],\n",
       " [\"Which road is the Trans-Manhattan Expressway's last south/west exit?\",\n",
       "  'What was the name of the last residential area built by the British Raj?',\n",
       "  'In what year did Lee stop giving interviews about the book?',\n",
       "  'What cause H2 to resemble monatomic gas?',\n",
       "  'Who tried to assassinate Nasser?'])"
      ]
     },
     "execution_count": 7,
     "metadata": {},
     "output_type": "execute_result"
    }
   ],
   "source": [
    "paragraphs = []\n",
    "questions = []\n",
    "for topic in doc[\"data\"]:\n",
    "    for pgraph in topic[\"paragraphs\"]:\n",
    "        paragraphs.append(pgraph[\"context\"])\n",
    "        for qa in pgraph[\"qas\"]:\n",
    "            if not qa[\"is_impossible\"]:\n",
    "                questions.append(qa[\"question\"])\n",
    "        \n",
    "len(paragraphs), len(questions), random.sample(paragraphs, 2), random.sample(questions, 5)"
   ]
  },
  {
   "cell_type": "markdown",
   "metadata": {},
   "source": [
    "### Map words to lemmas"
   ]
  },
  {
   "cell_type": "code",
   "execution_count": 8,
   "metadata": {},
   "outputs": [],
   "source": [
    "def lemmatize(phrase):\n",
    "    return \" \".join([word.lemma_ for word in sp(phrase)])"
   ]
  },
  {
   "cell_type": "code",
   "execution_count": 9,
   "metadata": {},
   "outputs": [
    {
     "name": "stdout",
     "output_type": "stream",
     "text": [
      "CPU times: user 24.1 ms, sys: 30.7 ms, total: 54.8 ms\n",
      "Wall time: 76.9 ms\n"
     ]
    }
   ],
   "source": [
    "%%time\n",
    "\n",
    "if not os.path.isfile(LEMMA_CACHE):\n",
    "    lemmas = [lemmatize(par) for par in tqdm(paragraphs)]\n",
    "    df = pd.DataFrame(data={'context': paragraphs, 'lemmas': lemmas})\n",
    "    df.to_feather(LEMMA_CACHE)\n",
    "    \n",
    "df = pd.read_feather(LEMMA_CACHE)\n",
    "paragraphs = df.context\n",
    "lemmas = df.lemmas"
   ]
  },
  {
   "cell_type": "code",
   "execution_count": 10,
   "metadata": {},
   "outputs": [
    {
     "data": {
      "text/plain": [
       "[('For vertebrates, the early stages of neural development are similar across all s',\n",
       "  'for vertebrate , the early stage of neural development be similar across all spe'),\n",
       " ('Compression efficiency of encoders is typically defined by the bit rate, because',\n",
       "  'compression efficiency of encoder be typically define by the bit rate , because '),\n",
       " ('The Byzantine Empire ruled the northern shores of the Sahara from the 5th to the',\n",
       "  'the Byzantine Empire rule the northern shore of the Sahara from the 5th to the 7'),\n",
       " (\"The mosaics of St. Peter's often show lively Baroque compositions based on desig\",\n",
       "  \"the mosaic of St. Peter 's often show lively Baroque composition base on design \"),\n",
       " ('After 1870, the new railroads across the Plains brought hunters who killed off a',\n",
       "  'after 1870 , the new railroad across the Plains bring hunter who kill off almost'),\n",
       " ('Numerous live performance events dedicated to house music were founded during th',\n",
       "  'numerous live performance event dedicate to house music be found during the cour'),\n",
       " ('Thus, in less than twenty years, Rome had destroyed the power of one of the succ',\n",
       "  'thus , in less than twenty year , Rome have destroy the power of one of the succ'),\n",
       " ('Guinea-Bissau has several secondary schools (general as well as technical) and a',\n",
       "  'Guinea - Bissau have several secondary school ( general as well as technical ) a'),\n",
       " ('Everton were founder members of the Premier League in 1992, but struggled to fin',\n",
       "  'Everton be founder member of the Premier League in 1992 , but struggle to find t'),\n",
       " ('In the hindgut (element 16 in numbered diagram), or proctodaeum, undigested food',\n",
       "  'in the hindgut ( element 16 in number diagram ) , or proctodaeum , undigested fo')]"
      ]
     },
     "execution_count": 10,
     "metadata": {},
     "output_type": "execute_result"
    }
   ],
   "source": [
    "rand_idx = [random.randint(0, len(lemmas)-1) for i in range(10)]\n",
    "\n",
    "# TODO display in left/right columns\n",
    "[(paragraphs[i][:80], lemmas[i][:80]) for i in rand_idx]"
   ]
  },
  {
   "cell_type": "markdown",
   "metadata": {},
   "source": [
    "### Vectorize corpus by TF-IDF"
   ]
  },
  {
   "cell_type": "code",
   "execution_count": 11,
   "metadata": {},
   "outputs": [
    {
     "name": "stdout",
     "output_type": "stream",
     "text": [
      "CPU times: user 615 ms, sys: 40.5 ms, total: 655 ms\n",
      "Wall time: 650 ms\n"
     ]
    },
    {
     "data": {
      "text/plain": [
       "37931"
      ]
     },
     "execution_count": 11,
     "metadata": {},
     "output_type": "execute_result"
    }
   ],
   "source": [
    "%%time\n",
    "if not os.path.isfile(VECTOR_CACHE):\n",
    "    vectorizer = TfidfVectorizer(\n",
    "        stop_words='english', min_df=5, max_df=.5, ngram_range=(1,3))\n",
    "    tfidf = vectorizer.fit_transform(lemmas)\n",
    "    with open(VECTOR_CACHE, \"wb\") as f:\n",
    "        pickle.dump(dict(vectorizer=vectorizer, tfidf=tfidf), f)\n",
    "else:\n",
    "    with open(VECTOR_CACHE, \"rb\") as f:\n",
    "        cache = pickle.load(f)\n",
    "        tfidf = cache[\"tfidf\"]\n",
    "        vectorizer = cache[\"vectorizer\"]\n",
    "len(vectorizer.vocabulary_)"
   ]
  },
  {
   "cell_type": "markdown",
   "metadata": {},
   "source": [
    "### Fetch contexts related to question"
   ]
  },
  {
   "cell_type": "code",
   "execution_count": 12,
   "metadata": {},
   "outputs": [
    {
     "data": {
      "text/plain": [
       "(9, [array(['adopt', 'calendar', 'country', 'gregorian', 'gregorian calendar',\n",
       "         'start', 'start use', 'use', 'use pron'], dtype='<U42')])"
      ]
     },
     "execution_count": 12,
     "metadata": {},
     "output_type": "execute_result"
    }
   ],
   "source": [
    "question = \"When did the last country to adopt the Gregorian calendar start using it?\"\n",
    "query = vectorizer.transform([lemmatize(question)])\n",
    "(query > 0).sum(), vectorizer.inverse_transform(query)"
   ]
  },
  {
   "cell_type": "code",
   "execution_count": 13,
   "metadata": {},
   "outputs": [
    {
     "name": "stdout",
     "output_type": "stream",
     "text": [
      "CPU times: user 3.5 ms, sys: 492 µs, total: 3.99 ms\n",
      "Wall time: 3.43 ms\n"
     ]
    },
    {
     "data": {
      "text/plain": [
       "['\"Old Style\" (OS) and \"New Style\" (NS) are sometimes added to dates to identify which system is used in the British Empire and other countries that did not immediately change. Because the Calendar Act of 1750 altered the start of the year, and also aligned the British calendar with the Gregorian calendar, there is some confusion as to what these terms mean. They can indicate that the start of the Julian year has been adjusted to start on 1 January (NS) even though contemporary documents use a different start of year (OS); or to indicate that a date conforms to the Julian calendar (OS), formerly in use in many countries, rather than the Gregorian calendar (NS).',\n",
       " 'During the period between 1582, when the first countries adopted the Gregorian calendar, and 1923, when the last European country adopted it, it was often necessary to indicate the date of some event in both the Julian calendar and in the Gregorian calendar, for example, \"10/21 February 1750/51\", where the dual year accounts for some countries already beginning their numbered year on 1 January while others were still using some other date. Even before 1582, the year sometimes had to be double dated because of the different beginnings of the year in various countries. Woolley, writing in his biography of John Dee (1527–1608/9), notes that immediately after 1582 English letter writers \"customarily\" used \"two dates\" on their letters, one OS and one NS.',\n",
       " \"In conjunction with the system of months there is a system of weeks. A physical or electronic calendar provides conversion from a given date to the weekday, and shows multiple dates for a given weekday and month. Calculating the day of the week is not very simple, because of the irregularities in the Gregorian system. When the Gregorian calendar was adopted by each country, the weekly cycle continued uninterrupted. For example, in the case of the few countries that adopted the reformed calendar on the date proposed by Gregory XIII for the calendar's adoption, Friday, 15 October 1582, the preceding date was Thursday, 4 October 1582 (Julian calendar).\"]"
      ]
     },
     "execution_count": 13,
     "metadata": {},
     "output_type": "execute_result"
    }
   ],
   "source": [
    "%%time\n",
    "scores = (tfidf * query.T).toarray()\n",
    "results = (np.flip(np.argsort(scores, axis=0)))\n",
    "[paragraphs[i] for i in results[:3, 0]]"
   ]
  },
  {
   "cell_type": "markdown",
   "metadata": {},
   "source": [
    "### Extract answers from contexts"
   ]
  },
  {
   "cell_type": "code",
   "execution_count": 14,
   "metadata": {},
   "outputs": [],
   "source": [
    "qapipe = pipeline('question-answering',\n",
    "                  model='distilbert-base-uncased-distilled-squad',\n",
    "                  tokenizer='bert-base-uncased')"
   ]
  },
  {
   "cell_type": "code",
   "execution_count": 15,
   "metadata": {},
   "outputs": [
    {
     "name": "stdout",
     "output_type": "stream",
     "text": [
      "CPU times: user 0 ns, sys: 2.79 ms, total: 2.79 ms\n",
      "Wall time: 2.14 ms\n"
     ]
    }
   ],
   "source": [
    "%%time\n",
    "THRESH = 0.01\n",
    "candidate_idxs = [ (i, scores[i]) for i in results[0:10, 0] ]\n",
    "contexts = [ (paragraphs[i],s)\n",
    "    for (i,s) in candidate_idxs if s > THRESH ]\n",
    "\n",
    "question_df = pd.DataFrame.from_records([ {\n",
    "    'question': question,\n",
    "    'context':  ctx\n",
    "} for (ctx,s) in contexts ])\n",
    "\n",
    "question_df.to_feather(\"cache/question_context.feather\")"
   ]
  },
  {
   "cell_type": "code",
   "execution_count": 16,
   "metadata": {},
   "outputs": [
    {
     "name": "stderr",
     "output_type": "stream",
     "text": [
      "Converting examples to features: 100%|██████████| 10/10 [00:00<00:00, 154.16it/s]\n"
     ]
    },
    {
     "name": "stdout",
     "output_type": "stream",
     "text": [
      "CPU times: user 190 ms, sys: 80.6 ms, total: 270 ms\n",
      "Wall time: 296 ms\n"
     ]
    },
    {
     "data": {
      "text/html": [
       "<div>\n",
       "<style scoped>\n",
       "    .dataframe tbody tr th:only-of-type {\n",
       "        vertical-align: middle;\n",
       "    }\n",
       "\n",
       "    .dataframe tbody tr th {\n",
       "        vertical-align: top;\n",
       "    }\n",
       "\n",
       "    .dataframe thead th {\n",
       "        text-align: right;\n",
       "    }\n",
       "</style>\n",
       "<table border=\"1\" class=\"dataframe\">\n",
       "  <thead>\n",
       "    <tr style=\"text-align: right;\">\n",
       "      <th></th>\n",
       "      <th>score</th>\n",
       "      <th>start</th>\n",
       "      <th>end</th>\n",
       "      <th>answer</th>\n",
       "      <th>context</th>\n",
       "    </tr>\n",
       "  </thead>\n",
       "  <tbody>\n",
       "    <tr>\n",
       "      <th>1</th>\n",
       "      <td>0.973023</td>\n",
       "      <td>93</td>\n",
       "      <td>98</td>\n",
       "      <td>1923,</td>\n",
       "      <td>During the period between 1582, when the first...</td>\n",
       "    </tr>\n",
       "    <tr>\n",
       "      <th>8</th>\n",
       "      <td>0.920178</td>\n",
       "      <td>473</td>\n",
       "      <td>489</td>\n",
       "      <td>15 October 1582.</td>\n",
       "      <td>Philip II of Spain decreed the change from the...</td>\n",
       "    </tr>\n",
       "    <tr>\n",
       "      <th>3</th>\n",
       "      <td>0.809254</td>\n",
       "      <td>324</td>\n",
       "      <td>334</td>\n",
       "      <td>1 January,</td>\n",
       "      <td>Extending the Gregorian calendar backwards to ...</td>\n",
       "    </tr>\n",
       "    <tr>\n",
       "      <th>0</th>\n",
       "      <td>0.641908</td>\n",
       "      <td>441</td>\n",
       "      <td>450</td>\n",
       "      <td>1 January</td>\n",
       "      <td>\"Old Style\" (OS) and \"New Style\" (NS) are some...</td>\n",
       "    </tr>\n",
       "    <tr>\n",
       "      <th>2</th>\n",
       "      <td>0.547817</td>\n",
       "      <td>566</td>\n",
       "      <td>590</td>\n",
       "      <td>Friday, 15 October 1582,</td>\n",
       "      <td>In conjunction with the system of months there...</td>\n",
       "    </tr>\n",
       "  </tbody>\n",
       "</table>\n",
       "</div>"
      ],
      "text/plain": [
       "      score  start  end                    answer  \\\n",
       "1  0.973023     93   98                     1923,   \n",
       "8  0.920178    473  489          15 October 1582.   \n",
       "3  0.809254    324  334                1 January,   \n",
       "0  0.641908    441  450                 1 January   \n",
       "2  0.547817    566  590  Friday, 15 October 1582,   \n",
       "\n",
       "                                             context  \n",
       "1  During the period between 1582, when the first...  \n",
       "8  Philip II of Spain decreed the change from the...  \n",
       "3  Extending the Gregorian calendar backwards to ...  \n",
       "0  \"Old Style\" (OS) and \"New Style\" (NS) are some...  \n",
       "2  In conjunction with the system of months there...  "
      ]
     },
     "execution_count": 16,
     "metadata": {},
     "output_type": "execute_result"
    }
   ],
   "source": [
    "%%time\n",
    "preds = qapipe(question_df.to_dict(orient=\"records\"))\n",
    "answer_df = pd.DataFrame.from_records(preds)\n",
    "answer_df[\"context\"] = question_df[\"context\"]\n",
    "answer_df = answer_df.sort_values(by=\"score\", ascending=False)\n",
    "answer_df.head()"
   ]
  },
  {
   "cell_type": "code",
   "execution_count": 17,
   "metadata": {},
   "outputs": [
    {
     "data": {
      "text/plain": [
       "[{'score': 0.973023084214109,\n",
       "  'start': 93,\n",
       "  'end': 98,\n",
       "  'answer': '1923,',\n",
       "  'context': 'During the period between 1582, when the first countries adopted the Gregorian calendar, and 1923, when the last European country adopted it, it was often necessary to indicate the date of some event in both the Julian calendar and in the Gregorian calendar, for example, \"10/21 February 1750/51\", where the dual year accounts for some countries already beginning their numbered year on 1 January while others were still using some other date. Even before 1582, the year sometimes had to be double dated because of the different beginnings of the year in various countries. Woolley, writing in his biography of John Dee (1527–1608/9), notes that immediately after 1582 English letter writers \"customarily\" used \"two dates\" on their letters, one OS and one NS.'},\n",
       " {'score': 0.9201781041192767,\n",
       "  'start': 473,\n",
       "  'end': 489,\n",
       "  'answer': '15 October 1582.',\n",
       "  'context': 'Philip II of Spain decreed the change from the Julian to the Gregorian calendar, which affected much of Roman Catholic Europe, as Philip was at the time ruler over Spain and Portugal as well as much of Italy. In these territories, as well as in the Polish–Lithuanian Commonwealth (ruled by Anna Jagiellon) and in the Papal States, the new calendar was implemented on the date specified by the bull, with Julian Thursday, 4 October 1582, being followed by Gregorian Friday, 15 October 1582. The Spanish and Portuguese colonies followed somewhat later de facto because of delay in communication.'},\n",
       " {'score': 0.8092544314291317,\n",
       "  'start': 324,\n",
       "  'end': 334,\n",
       "  'answer': '1 January,',\n",
       "  'context': \"Extending the Gregorian calendar backwards to dates preceding its official introduction produces a proleptic calendar, which should be used with some caution. For ordinary purposes, the dates of events occurring prior to 15 October 1582 are generally shown as they appeared in the Julian calendar, with the year starting on 1 January, and no conversion to their Gregorian equivalents. For example, the Battle of Agincourt is universally considered to have been fought on 25 October 1415 which is Saint Crispin's Day.\"},\n",
       " {'score': 0.6419079835456998,\n",
       "  'start': 441,\n",
       "  'end': 450,\n",
       "  'answer': '1 January',\n",
       "  'context': '\"Old Style\" (OS) and \"New Style\" (NS) are sometimes added to dates to identify which system is used in the British Empire and other countries that did not immediately change. Because the Calendar Act of 1750 altered the start of the year, and also aligned the British calendar with the Gregorian calendar, there is some confusion as to what these terms mean. They can indicate that the start of the Julian year has been adjusted to start on 1 January (NS) even though contemporary documents use a different start of year (OS); or to indicate that a date conforms to the Julian calendar (OS), formerly in use in many countries, rather than the Gregorian calendar (NS).'},\n",
       " {'score': 0.5478173638987371,\n",
       "  'start': 566,\n",
       "  'end': 590,\n",
       "  'answer': 'Friday, 15 October 1582,',\n",
       "  'context': \"In conjunction with the system of months there is a system of weeks. A physical or electronic calendar provides conversion from a given date to the weekday, and shows multiple dates for a given weekday and month. Calculating the day of the week is not very simple, because of the irregularities in the Gregorian system. When the Gregorian calendar was adopted by each country, the weekly cycle continued uninterrupted. For example, in the case of the few countries that adopted the reformed calendar on the date proposed by Gregory XIII for the calendar's adoption, Friday, 15 October 1582, the preceding date was Thursday, 4 October 1582 (Julian calendar).\"}]"
      ]
     },
     "execution_count": 17,
     "metadata": {},
     "output_type": "execute_result"
    }
   ],
   "source": [
    "answer_df.head().to_dict(orient=\"records\")"
   ]
  },
  {
   "cell_type": "code",
   "execution_count": null,
   "metadata": {},
   "outputs": [],
   "source": []
  }
 ],
 "metadata": {
  "kernelspec": {
   "display_name": "Python 3",
   "language": "python",
   "name": "python3"
  },
  "language_info": {
   "codemirror_mode": {
    "name": "ipython",
    "version": 3
   },
   "file_extension": ".py",
   "mimetype": "text/x-python",
   "name": "python",
   "nbconvert_exporter": "python",
   "pygments_lexer": "ipython3",
   "version": "3.6.9"
  }
 },
 "nbformat": 4,
 "nbformat_minor": 2
}
