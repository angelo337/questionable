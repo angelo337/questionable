{
 "cells": [
  {
   "cell_type": "markdown",
   "metadata": {},
   "source": [
    "# Question Answering with PyTorch Transformers: Part 2\n",
    "## A simple vector index with scikit-learn\n",
    "\n",
    "Read the full article: https://medium.com/@patonw/question-answering-with-pytorch-transformers-part-2-a31900294673\n",
    "\n",
    "> In Part 1 we briefly examined the problem of question answering in machine learning and how recent breakthroughs have greatly improved the quality of answers produced by computer systems.\n",
    ">\n",
    "> Using the pipeline API Transformers library we were able to run a pre-trained model in a few lines of code. In this article we’ll prototype an information retrieval system around it. In later articles we’ll turn that into web services that can be queried by browsers and mobile apps."
   ]
  },
  {
   "cell_type": "code",
   "execution_count": 1,
   "metadata": {
    "scrolled": false
   },
   "outputs": [],
   "source": [
    "# Prepare to run in paperspace. You should manage these with pipenv or conda on your own machine.\n",
    "# Run init_container from a Terminal window for debugging\n",
    "# I'd rather not have the output filling up the screen here.\n",
    "%run init_container.py"
   ]
  },
  {
   "cell_type": "code",
   "execution_count": 2,
   "metadata": {},
   "outputs": [],
   "source": [
    "from constants import *"
   ]
  },
  {
   "cell_type": "code",
   "execution_count": 3,
   "metadata": {},
   "outputs": [],
   "source": [
    "import os\n",
    "import requests\n",
    "import random\n",
    "import pickle\n",
    "\n",
    "import pandas as pd\n",
    "import json\n",
    "import sklearn\n",
    "import spacy\n",
    "\n",
    "import numpy as np\n",
    "import torch\n",
    "import torch.nn.functional as F\n",
    "from itertools import islice\n",
    "from tqdm import tqdm\n",
    "\n",
    "from sklearn.feature_extraction.text import TfidfVectorizer\n",
    "from transformers import *"
   ]
  },
  {
   "cell_type": "code",
   "execution_count": 4,
   "metadata": {},
   "outputs": [],
   "source": [
    "spacy.prefer_gpu()\n",
    "sp = spacy.load(\"en_core_web_sm\")"
   ]
  },
  {
   "cell_type": "markdown",
   "metadata": {},
   "source": [
    "### Extract Questions from SQUAD2.0"
   ]
  },
  {
   "cell_type": "markdown",
   "metadata": {},
   "source": [
    "Download dataset if not present."
   ]
  },
  {
   "cell_type": "code",
   "execution_count": 5,
   "metadata": {},
   "outputs": [
    {
     "data": {
      "text/plain": [
       "(dict_keys(['version', 'data']), list, 442)"
      ]
     },
     "execution_count": 5,
     "metadata": {},
     "output_type": "execute_result"
    }
   ],
   "source": [
    "with open(SQUAD_TRAIN) as f:\n",
    "    doc = json.load(f)\n",
    "doc.keys(), type(doc[\"data\"]), len(doc[\"data\"])"
   ]
  },
  {
   "cell_type": "code",
   "execution_count": 6,
   "metadata": {},
   "outputs": [
    {
     "data": {
      "text/plain": [
       "(19035,\n",
       " 86821,\n",
       " [\"Since the 1979 Revolution, to overcome foreign embargoes, Iran has developed its own military industry, produced its own tanks, armored personnel carriers, guided missiles, submarines, military vessels, guided missile destroyer, radar systems, helicopters and fighter planes. In recent years, official announcements have highlighted the development of weapons such as the Hoot, Kowsar, Zelzal, Fateh-110, Shahab-3 and Sejjil missiles, and a variety of unmanned aerial vehicles (UAVs). The Fajr-3 (MIRV) is currently Iran's most advanced ballistic missile, it is a liquid fuel missile with an undisclosed range which was developed and produced domestically.\",\n",
       "  'Israel operates under a parliamentary system as a democratic republic with universal suffrage. A member of parliament supported by a parliamentary majority becomes the prime minister—usually this is the chair of the largest party. The prime minister is the head of government and head of the cabinet. Israel is governed by a 120-member parliament, known as the Knesset. Membership of the Knesset is based on proportional representation of political parties, with a 3.25% electoral threshold, which in practice has resulted in coalition governments.'],\n",
       " ['What is the name of the era from which the building housing the Edgar Allan Poe Museum dates?',\n",
       "  'Portuguese pavement is known by what other name?',\n",
       "  'When did the war end?',\n",
       "  'In square kilometers, what was the size of Universal City Studios?',\n",
       "  'What is the equivilent to the US Standard A17.1 called in Canada?'])"
      ]
     },
     "execution_count": 6,
     "metadata": {},
     "output_type": "execute_result"
    }
   ],
   "source": [
    "paragraphs = []\n",
    "questions = []\n",
    "for topic in doc[\"data\"]:\n",
    "    for pgraph in topic[\"paragraphs\"]:\n",
    "        paragraphs.append(pgraph[\"context\"])\n",
    "        for qa in pgraph[\"qas\"]:\n",
    "            if not qa[\"is_impossible\"]:\n",
    "                questions.append(qa[\"question\"])\n",
    "        \n",
    "len(paragraphs), len(questions), random.sample(paragraphs, 2), random.sample(questions, 5)"
   ]
  },
  {
   "cell_type": "markdown",
   "metadata": {},
   "source": [
    "### Map words to lemmas"
   ]
  },
  {
   "cell_type": "code",
   "execution_count": 7,
   "metadata": {},
   "outputs": [],
   "source": [
    "def lemmatize(phrase):\n",
    "    return \" \".join([word.lemma_ for word in sp(phrase)])"
   ]
  },
  {
   "cell_type": "code",
   "execution_count": 8,
   "metadata": {},
   "outputs": [
    {
     "name": "stdout",
     "output_type": "stream",
     "text": [
      "CPU times: user 33.3 ms, sys: 20.6 ms, total: 53.9 ms\n",
      "Wall time: 88.4 ms\n"
     ]
    }
   ],
   "source": [
    "%%time\n",
    "\n",
    "if not os.path.isfile(LEMMA_CACHE):\n",
    "    lemmas = [lemmatize(par) for par in tqdm(paragraphs)]\n",
    "    df = pd.DataFrame(data={'context': paragraphs, 'lemmas': lemmas})\n",
    "    df.to_feather(LEMMA_CACHE)\n",
    "    \n",
    "df = pd.read_feather(LEMMA_CACHE)\n",
    "paragraphs = df.context\n",
    "lemmas = df.lemmas"
   ]
  },
  {
   "cell_type": "code",
   "execution_count": 9,
   "metadata": {},
   "outputs": [
    {
     "data": {
      "text/plain": [
       "[('Most prime ministers in parliamentary systems are not appointed for a specific t',\n",
       "  'Most prime minister in parliamentary system be not appoint for a specific term i'),\n",
       " ('The Roman Catholic Diocese of Charleston Office of Education also operates out o',\n",
       "  'the roman Catholic Diocese of Charleston Office of Education also operate out of'),\n",
       " ('The Super Nintendo Entertainment System (officially abbreviated the Super NES[b]',\n",
       "  'the Super Nintendo Entertainment System ( officially abbreviate the Super NES[b '),\n",
       " ('Paris is a major international air transport hub with the 4th busiest airport sy',\n",
       "  'Paris be a major international air transport hub with the 4th busy airport syste'),\n",
       " ('For temperature studies, subjects must remain awake but calm and semi-reclined i',\n",
       "  'for temperature study , subject must remain awake but calm and semi - recline in'),\n",
       " ('The Government of Estonia (Estonian: Vabariigi Valitsus) or the executive branch',\n",
       "  'the Government of Estonia ( Estonian : Vabariigi Valitsus ) or the executive bra'),\n",
       " ('Architects such as Mies van der Rohe, Philip Johnson and Marcel Breuer worked to',\n",
       "  'architect such as Mies van der Rohe , Philip Johnson and Marcel Breuer work to c'),\n",
       " ('Since the Three Kingdoms period, Nanjing has been an industrial centre for texti',\n",
       "  'since the Three Kingdoms period , Nanjing have be an industrial centre for texti'),\n",
       " ('For example, at 30 MHz (10 m wavelength) a true resonant 1⁄4-wavelength monopole',\n",
       "  'for example , at 30 MHz ( 10 m wavelength ) a true resonant 1⁄4-wavelength monop'),\n",
       " ('The nitrogen fixing Rhizobia are an interesting case, wherein conjugative elemen',\n",
       "  'the nitrogen fix Rhizobia be an interesting case , wherein conjugative element n')]"
      ]
     },
     "execution_count": 9,
     "metadata": {},
     "output_type": "execute_result"
    }
   ],
   "source": [
    "rand_idx = [random.randint(0, len(lemmas)-1) for i in range(10)]\n",
    "\n",
    "# TODO display in left/right columns\n",
    "[(paragraphs[i][:80], lemmas[i][:80]) for i in rand_idx]"
   ]
  },
  {
   "cell_type": "markdown",
   "metadata": {},
   "source": [
    "### Vectorize corpus by TF-IDF"
   ]
  },
  {
   "cell_type": "code",
   "execution_count": 10,
   "metadata": {},
   "outputs": [
    {
     "name": "stdout",
     "output_type": "stream",
     "text": [
      "CPU times: user 546 ms, sys: 101 ms, total: 647 ms\n",
      "Wall time: 645 ms\n"
     ]
    },
    {
     "data": {
      "text/plain": [
       "37931"
      ]
     },
     "execution_count": 10,
     "metadata": {},
     "output_type": "execute_result"
    }
   ],
   "source": [
    "%%time\n",
    "if not os.path.isfile(VECTOR_CACHE):\n",
    "    vectorizer = TfidfVectorizer(\n",
    "        stop_words='english', min_df=5, max_df=.5, ngram_range=(1,3))\n",
    "    tfidf = vectorizer.fit_transform(lemmas)\n",
    "    with open(VECTOR_CACHE, \"wb\") as f:\n",
    "        pickle.dump(dict(vectorizer=vectorizer, tfidf=tfidf), f)\n",
    "else:\n",
    "    with open(VECTOR_CACHE, \"rb\") as f:\n",
    "        cache = pickle.load(f)\n",
    "        tfidf = cache[\"tfidf\"]\n",
    "        vectorizer = cache[\"vectorizer\"]\n",
    "        \n",
    "len(vectorizer.vocabulary_)"
   ]
  },
  {
   "cell_type": "markdown",
   "metadata": {},
   "source": [
    "### Fetch contexts related to question"
   ]
  },
  {
   "cell_type": "code",
   "execution_count": 11,
   "metadata": {},
   "outputs": [
    {
     "data": {
      "text/plain": [
       "(9, [array(['adopt', 'calendar', 'country', 'gregorian', 'gregorian calendar',\n",
       "         'start', 'start use', 'use', 'use pron'], dtype='<U42')])"
      ]
     },
     "execution_count": 11,
     "metadata": {},
     "output_type": "execute_result"
    }
   ],
   "source": [
    "question = \"When did the last country to adopt the Gregorian calendar start using it?\"\n",
    "query = vectorizer.transform([lemmatize(question)])\n",
    "(query > 0).sum(), vectorizer.inverse_transform(query)"
   ]
  },
  {
   "cell_type": "code",
   "execution_count": 12,
   "metadata": {},
   "outputs": [
    {
     "name": "stdout",
     "output_type": "stream",
     "text": [
      "CPU times: user 4.49 ms, sys: 562 µs, total: 5.05 ms\n",
      "Wall time: 4.25 ms\n"
     ]
    },
    {
     "data": {
      "text/plain": [
       "['\"Old Style\" (OS) and \"New Style\" (NS) are sometimes added to dates to identify which system is used in the British Empire and other countries that did not immediately change. Because the Calendar Act of 1750 altered the start of the year, and also aligned the British calendar with the Gregorian calendar, there is some confusion as to what these terms mean. They can indicate that the start of the Julian year has been adjusted to start on 1 January (NS) even though contemporary documents use a different start of year (OS); or to indicate that a date conforms to the Julian calendar (OS), formerly in use in many countries, rather than the Gregorian calendar (NS).',\n",
       " 'During the period between 1582, when the first countries adopted the Gregorian calendar, and 1923, when the last European country adopted it, it was often necessary to indicate the date of some event in both the Julian calendar and in the Gregorian calendar, for example, \"10/21 February 1750/51\", where the dual year accounts for some countries already beginning their numbered year on 1 January while others were still using some other date. Even before 1582, the year sometimes had to be double dated because of the different beginnings of the year in various countries. Woolley, writing in his biography of John Dee (1527–1608/9), notes that immediately after 1582 English letter writers \"customarily\" used \"two dates\" on their letters, one OS and one NS.',\n",
       " \"In conjunction with the system of months there is a system of weeks. A physical or electronic calendar provides conversion from a given date to the weekday, and shows multiple dates for a given weekday and month. Calculating the day of the week is not very simple, because of the irregularities in the Gregorian system. When the Gregorian calendar was adopted by each country, the weekly cycle continued uninterrupted. For example, in the case of the few countries that adopted the reformed calendar on the date proposed by Gregory XIII for the calendar's adoption, Friday, 15 October 1582, the preceding date was Thursday, 4 October 1582 (Julian calendar).\"]"
      ]
     },
     "execution_count": 12,
     "metadata": {},
     "output_type": "execute_result"
    }
   ],
   "source": [
    "%%time\n",
    "scores = (tfidf * query.T).toarray()\n",
    "results = (np.flip(np.argsort(scores, axis=0)))\n",
    "[paragraphs[i] for i in results[:3, 0]]"
   ]
  },
  {
   "cell_type": "markdown",
   "metadata": {},
   "source": [
    "### Extract answers from contexts"
   ]
  },
  {
   "cell_type": "code",
   "execution_count": 13,
   "metadata": {},
   "outputs": [],
   "source": [
    "qapipe = pipeline('question-answering',\n",
    "                  model='distilbert-base-uncased-distilled-squad',\n",
    "                  tokenizer='bert-base-uncased')"
   ]
  },
  {
   "cell_type": "code",
   "execution_count": 14,
   "metadata": {},
   "outputs": [
    {
     "name": "stdout",
     "output_type": "stream",
     "text": [
      "CPU times: user 0 ns, sys: 3.2 ms, total: 3.2 ms\n",
      "Wall time: 2.44 ms\n"
     ]
    }
   ],
   "source": [
    "%%time\n",
    "THRESH = 0.01\n",
    "candidate_idxs = [ (i, scores[i]) for i in results[0:10, 0] ]\n",
    "contexts = [ (paragraphs[i],s)\n",
    "    for (i,s) in candidate_idxs if s > THRESH ]\n",
    "\n",
    "question_df = pd.DataFrame.from_records([ {\n",
    "    'question': question,\n",
    "    'context':  ctx\n",
    "} for (ctx,s) in contexts ])\n",
    "\n",
    "question_df.to_feather(\"cache/question_context.feather\")"
   ]
  },
  {
   "cell_type": "code",
   "execution_count": 15,
   "metadata": {},
   "outputs": [
    {
     "name": "stderr",
     "output_type": "stream",
     "text": [
      "Converting examples to features: 100%|██████████| 10/10 [00:00<00:00, 150.06it/s]\n"
     ]
    },
    {
     "name": "stdout",
     "output_type": "stream",
     "text": [
      "CPU times: user 174 ms, sys: 100 ms, total: 274 ms\n",
      "Wall time: 308 ms\n"
     ]
    },
    {
     "data": {
      "text/html": [
       "<div>\n",
       "<style scoped>\n",
       "    .dataframe tbody tr th:only-of-type {\n",
       "        vertical-align: middle;\n",
       "    }\n",
       "\n",
       "    .dataframe tbody tr th {\n",
       "        vertical-align: top;\n",
       "    }\n",
       "\n",
       "    .dataframe thead th {\n",
       "        text-align: right;\n",
       "    }\n",
       "</style>\n",
       "<table border=\"1\" class=\"dataframe\">\n",
       "  <thead>\n",
       "    <tr style=\"text-align: right;\">\n",
       "      <th></th>\n",
       "      <th>score</th>\n",
       "      <th>start</th>\n",
       "      <th>end</th>\n",
       "      <th>answer</th>\n",
       "      <th>context</th>\n",
       "    </tr>\n",
       "  </thead>\n",
       "  <tbody>\n",
       "    <tr>\n",
       "      <th>1</th>\n",
       "      <td>0.973023</td>\n",
       "      <td>93</td>\n",
       "      <td>98</td>\n",
       "      <td>1923,</td>\n",
       "      <td>During the period between 1582, when the first...</td>\n",
       "    </tr>\n",
       "    <tr>\n",
       "      <th>8</th>\n",
       "      <td>0.920178</td>\n",
       "      <td>473</td>\n",
       "      <td>489</td>\n",
       "      <td>15 October 1582.</td>\n",
       "      <td>Philip II of Spain decreed the change from the...</td>\n",
       "    </tr>\n",
       "    <tr>\n",
       "      <th>3</th>\n",
       "      <td>0.809254</td>\n",
       "      <td>324</td>\n",
       "      <td>334</td>\n",
       "      <td>1 January,</td>\n",
       "      <td>Extending the Gregorian calendar backwards to ...</td>\n",
       "    </tr>\n",
       "    <tr>\n",
       "      <th>0</th>\n",
       "      <td>0.641908</td>\n",
       "      <td>441</td>\n",
       "      <td>450</td>\n",
       "      <td>1 January</td>\n",
       "      <td>\"Old Style\" (OS) and \"New Style\" (NS) are some...</td>\n",
       "    </tr>\n",
       "    <tr>\n",
       "      <th>2</th>\n",
       "      <td>0.547817</td>\n",
       "      <td>566</td>\n",
       "      <td>590</td>\n",
       "      <td>Friday, 15 October 1582,</td>\n",
       "      <td>In conjunction with the system of months there...</td>\n",
       "    </tr>\n",
       "  </tbody>\n",
       "</table>\n",
       "</div>"
      ],
      "text/plain": [
       "      score  start  end                    answer  \\\n",
       "1  0.973023     93   98                     1923,   \n",
       "8  0.920178    473  489          15 October 1582.   \n",
       "3  0.809254    324  334                1 January,   \n",
       "0  0.641908    441  450                 1 January   \n",
       "2  0.547817    566  590  Friday, 15 October 1582,   \n",
       "\n",
       "                                             context  \n",
       "1  During the period between 1582, when the first...  \n",
       "8  Philip II of Spain decreed the change from the...  \n",
       "3  Extending the Gregorian calendar backwards to ...  \n",
       "0  \"Old Style\" (OS) and \"New Style\" (NS) are some...  \n",
       "2  In conjunction with the system of months there...  "
      ]
     },
     "execution_count": 15,
     "metadata": {},
     "output_type": "execute_result"
    }
   ],
   "source": [
    "%%time\n",
    "preds = qapipe(question_df.to_dict(orient=\"records\"))\n",
    "answer_df = pd.DataFrame.from_records(preds)\n",
    "answer_df[\"context\"] = question_df[\"context\"]\n",
    "answer_df = answer_df.sort_values(by=\"score\", ascending=False)\n",
    "answer_df.head()"
   ]
  },
  {
   "cell_type": "code",
   "execution_count": 16,
   "metadata": {},
   "outputs": [
    {
     "data": {
      "text/plain": [
       "[{'score': 0.973023084214109,\n",
       "  'start': 93,\n",
       "  'end': 98,\n",
       "  'answer': '1923,',\n",
       "  'context': 'During the period between 1582, when the first countries adopted the Gregorian calendar, and 1923, when the last European country adopted it, it was often necessary to indicate the date of some event in both the Julian calendar and in the Gregorian calendar, for example, \"10/21 February 1750/51\", where the dual year accounts for some countries already beginning their numbered year on 1 January while others were still using some other date. Even before 1582, the year sometimes had to be double dated because of the different beginnings of the year in various countries. Woolley, writing in his biography of John Dee (1527–1608/9), notes that immediately after 1582 English letter writers \"customarily\" used \"two dates\" on their letters, one OS and one NS.'},\n",
       " {'score': 0.9201781041192767,\n",
       "  'start': 473,\n",
       "  'end': 489,\n",
       "  'answer': '15 October 1582.',\n",
       "  'context': 'Philip II of Spain decreed the change from the Julian to the Gregorian calendar, which affected much of Roman Catholic Europe, as Philip was at the time ruler over Spain and Portugal as well as much of Italy. In these territories, as well as in the Polish–Lithuanian Commonwealth (ruled by Anna Jagiellon) and in the Papal States, the new calendar was implemented on the date specified by the bull, with Julian Thursday, 4 October 1582, being followed by Gregorian Friday, 15 October 1582. The Spanish and Portuguese colonies followed somewhat later de facto because of delay in communication.'},\n",
       " {'score': 0.8092544314291317,\n",
       "  'start': 324,\n",
       "  'end': 334,\n",
       "  'answer': '1 January,',\n",
       "  'context': \"Extending the Gregorian calendar backwards to dates preceding its official introduction produces a proleptic calendar, which should be used with some caution. For ordinary purposes, the dates of events occurring prior to 15 October 1582 are generally shown as they appeared in the Julian calendar, with the year starting on 1 January, and no conversion to their Gregorian equivalents. For example, the Battle of Agincourt is universally considered to have been fought on 25 October 1415 which is Saint Crispin's Day.\"},\n",
       " {'score': 0.6419079835456998,\n",
       "  'start': 441,\n",
       "  'end': 450,\n",
       "  'answer': '1 January',\n",
       "  'context': '\"Old Style\" (OS) and \"New Style\" (NS) are sometimes added to dates to identify which system is used in the British Empire and other countries that did not immediately change. Because the Calendar Act of 1750 altered the start of the year, and also aligned the British calendar with the Gregorian calendar, there is some confusion as to what these terms mean. They can indicate that the start of the Julian year has been adjusted to start on 1 January (NS) even though contemporary documents use a different start of year (OS); or to indicate that a date conforms to the Julian calendar (OS), formerly in use in many countries, rather than the Gregorian calendar (NS).'},\n",
       " {'score': 0.5478173638987371,\n",
       "  'start': 566,\n",
       "  'end': 590,\n",
       "  'answer': 'Friday, 15 October 1582,',\n",
       "  'context': \"In conjunction with the system of months there is a system of weeks. A physical or electronic calendar provides conversion from a given date to the weekday, and shows multiple dates for a given weekday and month. Calculating the day of the week is not very simple, because of the irregularities in the Gregorian system. When the Gregorian calendar was adopted by each country, the weekly cycle continued uninterrupted. For example, in the case of the few countries that adopted the reformed calendar on the date proposed by Gregory XIII for the calendar's adoption, Friday, 15 October 1582, the preceding date was Thursday, 4 October 1582 (Julian calendar).\"}]"
      ]
     },
     "execution_count": 16,
     "metadata": {},
     "output_type": "execute_result"
    }
   ],
   "source": [
    "answer_df.head().to_dict(orient=\"records\")"
   ]
  },
  {
   "cell_type": "code",
   "execution_count": null,
   "metadata": {},
   "outputs": [],
   "source": []
  }
 ],
 "metadata": {
  "kernelspec": {
   "display_name": "Python 3",
   "language": "python",
   "name": "python3"
  },
  "language_info": {
   "codemirror_mode": {
    "name": "ipython",
    "version": 3
   },
   "file_extension": ".py",
   "mimetype": "text/x-python",
   "name": "python",
   "nbconvert_exporter": "python",
   "pygments_lexer": "ipython3",
   "version": "3.6.9"
  }
 },
 "nbformat": 4,
 "nbformat_minor": 2
}
