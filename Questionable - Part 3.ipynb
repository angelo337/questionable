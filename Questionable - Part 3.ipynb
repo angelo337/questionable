{
 "cells": [
  {
   "cell_type": "markdown",
   "metadata": {},
   "source": [
    "# Question Answering with PyTorch Transformers: Part 3\n",
    "\n",
    "N.B. Please run the notebook \"Questionable - Part 2\" to generate the caches used in this one.\n",
    "\n",
    "Article is pending"
   ]
  },
  {
   "cell_type": "code",
   "execution_count": 1,
   "metadata": {},
   "outputs": [
    {
     "name": "stdout",
     "output_type": "stream",
     "text": [
      "Requirement already satisfied: seaborn in /usr/local/lib/python3.6/dist-packages (0.9.0)\n",
      "Requirement already satisfied: pandas>=0.15.2 in /usr/local/lib/python3.6/dist-packages (from seaborn) (0.25.0)\n",
      "Requirement already satisfied: numpy>=1.9.3 in /usr/local/lib/python3.6/dist-packages (from seaborn) (1.17.0)\n",
      "Requirement already satisfied: scipy>=0.14.0 in /usr/local/lib/python3.6/dist-packages (from seaborn) (1.3.0)\n",
      "Requirement already satisfied: matplotlib>=1.4.3 in /usr/local/lib/python3.6/dist-packages (from seaborn) (3.1.1)\n",
      "Requirement already satisfied: python-dateutil>=2.6.1 in /usr/local/lib/python3.6/dist-packages (from pandas>=0.15.2->seaborn) (2.8.0)\n",
      "Requirement already satisfied: pytz>=2017.2 in /usr/local/lib/python3.6/dist-packages (from pandas>=0.15.2->seaborn) (2019.2)\n",
      "Requirement already satisfied: pyparsing!=2.0.4,!=2.1.2,!=2.1.6,>=2.0.1 in /usr/local/lib/python3.6/dist-packages (from matplotlib>=1.4.3->seaborn) (2.4.2)\n",
      "Requirement already satisfied: kiwisolver>=1.0.1 in /usr/local/lib/python3.6/dist-packages (from matplotlib>=1.4.3->seaborn) (1.1.0)\n",
      "Requirement already satisfied: cycler>=0.10 in /usr/local/lib/python3.6/dist-packages (from matplotlib>=1.4.3->seaborn) (0.10.0)\n",
      "Requirement already satisfied: six>=1.5 in /usr/local/lib/python3.6/dist-packages (from python-dateutil>=2.6.1->pandas>=0.15.2->seaborn) (1.12.0)\n",
      "Requirement already satisfied: setuptools in /usr/local/lib/python3.6/dist-packages (from kiwisolver>=1.0.1->matplotlib>=1.4.3->seaborn) (41.0.1)\n",
      "\u001b[33mWARNING: You are using pip version 19.2.1, however version 19.3.1 is available.\n",
      "You should consider upgrading via the 'pip install --upgrade pip' command.\u001b[0m\n"
     ]
    }
   ],
   "source": [
    "!pip install seaborn"
   ]
  },
  {
   "cell_type": "code",
   "execution_count": 2,
   "metadata": {
    "scrolled": true
   },
   "outputs": [],
   "source": [
    "import os\n",
    "import random\n",
    "import pandas as pd\n",
    "import json\n",
    "import sklearn\n",
    "import spacy\n",
    "\n",
    "import numpy as np\n",
    "import torch\n",
    "import torch.nn.functional as F\n",
    "from itertools import islice\n",
    "from tqdm import tqdm\n",
    "import seaborn as sns\n",
    "\n",
    "from sklearn.feature_extraction.text import TfidfVectorizer\n",
    "from transformers import *"
   ]
  },
  {
   "cell_type": "code",
   "execution_count": 3,
   "metadata": {},
   "outputs": [],
   "source": [
    "%matplotlib inline"
   ]
  },
  {
   "cell_type": "code",
   "execution_count": 4,
   "metadata": {},
   "outputs": [],
   "source": [
    "# This takes a while the first time, since from_pretrained() downloads and caches the model weights\n",
    "device = torch.device('cuda' if torch.cuda.is_available() else 'cpu')\n",
    "tokenizer = BertTokenizer.from_pretrained('bert-base-uncased')\n",
    "model = BertForQuestionAnswering \\\n",
    "    .from_pretrained('bert-large-uncased-whole-word-masking-finetuned-squad') \\\n",
    "    .to(device)"
   ]
  },
  {
   "cell_type": "code",
   "execution_count": 5,
   "metadata": {
    "scrolled": true
   },
   "outputs": [
    {
     "data": {
      "text/html": [
       "<div>\n",
       "<style scoped>\n",
       "    .dataframe tbody tr th:only-of-type {\n",
       "        vertical-align: middle;\n",
       "    }\n",
       "\n",
       "    .dataframe tbody tr th {\n",
       "        vertical-align: top;\n",
       "    }\n",
       "\n",
       "    .dataframe thead th {\n",
       "        text-align: right;\n",
       "    }\n",
       "</style>\n",
       "<table border=\"1\" class=\"dataframe\">\n",
       "  <thead>\n",
       "    <tr style=\"text-align: right;\">\n",
       "      <th></th>\n",
       "      <th>question</th>\n",
       "      <th>context</th>\n",
       "    </tr>\n",
       "  </thead>\n",
       "  <tbody>\n",
       "    <tr>\n",
       "      <th>0</th>\n",
       "      <td>When did the last country to adopt the Gregori...</td>\n",
       "      <td>\"Old Style\" (OS) and \"New Style\" (NS) are some...</td>\n",
       "    </tr>\n",
       "    <tr>\n",
       "      <th>1</th>\n",
       "      <td>When did the last country to adopt the Gregori...</td>\n",
       "      <td>During the period between 1582, when the first...</td>\n",
       "    </tr>\n",
       "    <tr>\n",
       "      <th>2</th>\n",
       "      <td>When did the last country to adopt the Gregori...</td>\n",
       "      <td>In conjunction with the system of months there...</td>\n",
       "    </tr>\n",
       "    <tr>\n",
       "      <th>3</th>\n",
       "      <td>When did the last country to adopt the Gregori...</td>\n",
       "      <td>Extending the Gregorian calendar backwards to ...</td>\n",
       "    </tr>\n",
       "    <tr>\n",
       "      <th>4</th>\n",
       "      <td>When did the last country to adopt the Gregori...</td>\n",
       "      <td>Most Western European countries changed the st...</td>\n",
       "    </tr>\n",
       "    <tr>\n",
       "      <th>5</th>\n",
       "      <td>When did the last country to adopt the Gregori...</td>\n",
       "      <td>The Gregorian calendar is a solar calendar. A ...</td>\n",
       "    </tr>\n",
       "    <tr>\n",
       "      <th>6</th>\n",
       "      <td>When did the last country to adopt the Gregori...</td>\n",
       "      <td>Prior to 1917, Turkey used the lunar Islamic c...</td>\n",
       "    </tr>\n",
       "    <tr>\n",
       "      <th>7</th>\n",
       "      <td>When did the last country to adopt the Gregori...</td>\n",
       "      <td>The Gregorian calendar improves the approximat...</td>\n",
       "    </tr>\n",
       "    <tr>\n",
       "      <th>8</th>\n",
       "      <td>When did the last country to adopt the Gregori...</td>\n",
       "      <td>Philip II of Spain decreed the change from the...</td>\n",
       "    </tr>\n",
       "    <tr>\n",
       "      <th>9</th>\n",
       "      <td>When did the last country to adopt the Gregori...</td>\n",
       "      <td>In addition to the change in the mean length o...</td>\n",
       "    </tr>\n",
       "  </tbody>\n",
       "</table>\n",
       "</div>"
      ],
      "text/plain": [
       "                                            question  \\\n",
       "0  When did the last country to adopt the Gregori...   \n",
       "1  When did the last country to adopt the Gregori...   \n",
       "2  When did the last country to adopt the Gregori...   \n",
       "3  When did the last country to adopt the Gregori...   \n",
       "4  When did the last country to adopt the Gregori...   \n",
       "5  When did the last country to adopt the Gregori...   \n",
       "6  When did the last country to adopt the Gregori...   \n",
       "7  When did the last country to adopt the Gregori...   \n",
       "8  When did the last country to adopt the Gregori...   \n",
       "9  When did the last country to adopt the Gregori...   \n",
       "\n",
       "                                             context  \n",
       "0  \"Old Style\" (OS) and \"New Style\" (NS) are some...  \n",
       "1  During the period between 1582, when the first...  \n",
       "2  In conjunction with the system of months there...  \n",
       "3  Extending the Gregorian calendar backwards to ...  \n",
       "4  Most Western European countries changed the st...  \n",
       "5  The Gregorian calendar is a solar calendar. A ...  \n",
       "6  Prior to 1917, Turkey used the lunar Islamic c...  \n",
       "7  The Gregorian calendar improves the approximat...  \n",
       "8  Philip II of Spain decreed the change from the...  \n",
       "9  In addition to the change in the mean length o...  "
      ]
     },
     "execution_count": 5,
     "metadata": {},
     "output_type": "execute_result"
    }
   ],
   "source": [
    "question_df = pd.read_feather(\"question_context.feather\")\n",
    "question_df"
   ]
  },
  {
   "cell_type": "code",
   "execution_count": 6,
   "metadata": {},
   "outputs": [
    {
     "data": {
      "text/plain": [
       "('When did the last country to adopt the Gregorian calendar start using it?',\n",
       " 'During the period between 1582, when the first countries adopted the Gregorian calendar, and 1923, when the last European country adopted it, it was often necessary to indicate the date of some event in both the Julian calendar and in the Gregorian calendar, for example, \"10/21 February 1750/51\", where the dual year accounts for some countries already beginning their numbered year on 1 January while others were still using some other date. Even before 1582, the year sometimes had to be double dated because of the different beginnings of the year in various countries. Woolley, writing in his biography of John Dee (1527–1608/9), notes that immediately after 1582 English letter writers \"customarily\" used \"two dates\" on their letters, one OS and one NS.')"
      ]
     },
     "execution_count": 6,
     "metadata": {},
     "output_type": "execute_result"
    }
   ],
   "source": [
    "question, context = question_df[[\"question\", \"context\"]].iloc[1]\n",
    "question, context"
   ]
  },
  {
   "cell_type": "code",
   "execution_count": 7,
   "metadata": {},
   "outputs": [
    {
     "data": {
      "text/plain": [
       "([101, 2043, 2106, 1996, 2197, 2406, 2000, 11092, 1996, 25847],\n",
       " [0, 0, 0, 0, 0, 0, 0, 0, 0, 0, 0, 0, 0, 0, 0, 0, 1, 1, 1, 1])"
      ]
     },
     "execution_count": 7,
     "metadata": {},
     "output_type": "execute_result"
    }
   ],
   "source": [
    "# Example from https://huggingface.co/transformers/model_doc/bert.html#bertforquestionanswering\n",
    "input_text = \"[CLS] \" + question + \" [SEP] \" + context + \" [SEP]\"\n",
    "input_ids = tokenizer.encode(input_text, add_special_tokens=False)\n",
    "token_type_ids = [0 if i <= input_ids.index(102) else 1 for i in range(len(input_ids))]\n",
    "input_ids[:10], token_type_ids[:20]"
   ]
  },
  {
   "cell_type": "code",
   "execution_count": 8,
   "metadata": {},
   "outputs": [
    {
     "name": "stdout",
     "output_type": "stream",
     "text": [
      "1923\n",
      "score: 8.123082160949707\n"
     ]
    }
   ],
   "source": [
    "with torch.no_grad():\n",
    "    start_scores, end_scores = model(torch.tensor([input_ids], device=device),\n",
    "                                     token_type_ids=torch.tensor([token_type_ids], device=device))\n",
    "    all_tokens = tokenizer.convert_ids_to_tokens(input_ids)\n",
    "print(' '.join(all_tokens[torch.argmax(start_scores) : torch.argmax(end_scores)+1]))\n",
    "print(f'score: {torch.max(start_scores)}')"
   ]
  },
  {
   "cell_type": "code",
   "execution_count": 9,
   "metadata": {},
   "outputs": [
    {
     "data": {
      "text/plain": [
       "<matplotlib.axes._subplots.AxesSubplot at 0x7fccb58584a8>"
      ]
     },
     "execution_count": 9,
     "metadata": {},
     "output_type": "execute_result"
    },
    {
     "data": {
      "image/png": "[encoded data removed]",
      "text/plain": [
       "<Figure size 432x288 with 1 Axes>"
      ]
     },
     "metadata": {
      "needs_background": "light"
     },
     "output_type": "display_data"
    }
   ],
   "source": [
    "sns.distplot(start_scores.cpu(), kde=False, rug=True)"
   ]
  },
  {
   "cell_type": "code",
   "execution_count": 10,
   "metadata": {},
   "outputs": [
    {
     "data": {
      "text/plain": [
       "'...first countries adopted the gregorian calendar, and >>>1923<<< , when the last european country adopted...'"
      ]
     },
     "execution_count": 10,
     "metadata": {},
     "output_type": "execute_result"
    }
   ],
   "source": [
    "prefix = tokenizer.decode(input_ids[torch.argmax(start_scores)-8:torch.argmax(start_scores) ])\n",
    "answer = tokenizer.decode(input_ids[torch.argmax(start_scores) : torch.argmax(end_scores)+1])\n",
    "suffix = tokenizer.decode(input_ids[torch.argmax(end_scores)+1:torch.argmax(end_scores)+8 ])\n",
    "\n",
    "\"...\" + prefix + \" >>>\" + answer + \"<<< \" + suffix + \"...\""
   ]
  },
  {
   "cell_type": "code",
   "execution_count": 11,
   "metadata": {},
   "outputs": [
    {
     "data": {
      "text/plain": [
       "('When did the last country to adopt the Gregorian calendar start using it?',\n",
       " '\"Old Style\" (OS) and \"New Style\" (NS) are sometimes added to dates to identify which system is used in the British Empire and other countries that did not immediately change. Because the Calendar Act of 1750 altered the start of the year, and also aligned the British calendar with the Gregorian calendar, there is some confusion as to what these terms mean. They can indicate that the start of the Julian year has been adjusted to start on 1 January (NS) even though contemporary documents use a different start of year (OS); or to indicate that a date conforms to the Julian calendar (OS), formerly in use in many countries, rather than the Gregorian calendar (NS).')"
      ]
     },
     "execution_count": 11,
     "metadata": {},
     "output_type": "execute_result"
    }
   ],
   "source": [
    "question, context = question_df[[\"question\", \"context\"]].iloc[0]\n",
    "question, context"
   ]
  },
  {
   "cell_type": "code",
   "execution_count": 12,
   "metadata": {},
   "outputs": [],
   "source": [
    "# Example from https://huggingface.co/transformers/model_doc/bert.html#bertforquestionanswering\n",
    "input_text = \"[CLS] \" + question + \" [SEP] \" + context + \" [SEP]\"\n",
    "input_ids = tokenizer.encode(input_text, add_special_tokens=False)\n",
    "token_type_ids = [0 if i <= input_ids.index(102) else 1 for i in range(len(input_ids))]"
   ]
  },
  {
   "cell_type": "code",
   "execution_count": 13,
   "metadata": {},
   "outputs": [
    {
     "name": "stdout",
     "output_type": "stream",
     "text": [
      "1750\n",
      "score: -1.3189603090286255\n"
     ]
    },
    {
     "data": {
      "text/plain": [
       "<matplotlib.axes._subplots.AxesSubplot at 0x7fcbbc3bdc50>"
      ]
     },
     "execution_count": 13,
     "metadata": {},
     "output_type": "execute_result"
    },
    {
     "data": {
      "image/png": "[encoded data removed]",
      "text/plain": [
       "<Figure size 432x288 with 1 Axes>"
      ]
     },
     "metadata": {
      "needs_background": "light"
     },
     "output_type": "display_data"
    }
   ],
   "source": [
    "with torch.no_grad():\n",
    "    start_scores, end_scores = model(torch.tensor([input_ids], device=device),\n",
    "                                     token_type_ids=torch.tensor([token_type_ids], device=device))\n",
    "    all_tokens = tokenizer.convert_ids_to_tokens(input_ids)\n",
    "print(' '.join(all_tokens[torch.argmax(start_scores) : torch.argmax(end_scores)+1]))\n",
    "print(f'score: {torch.max(start_scores)}')\n",
    "sns.distplot(start_scores.cpu(), kde=False, rug=True)"
   ]
  },
  {
   "cell_type": "markdown",
   "metadata": {},
   "source": [
    "## Prepare batch for inference"
   ]
  },
  {
   "cell_type": "code",
   "execution_count": 14,
   "metadata": {
    "scrolled": true
   },
   "outputs": [
    {
     "data": {
      "text/html": [
       "<div>\n",
       "<style scoped>\n",
       "    .dataframe tbody tr th:only-of-type {\n",
       "        vertical-align: middle;\n",
       "    }\n",
       "\n",
       "    .dataframe tbody tr th {\n",
       "        vertical-align: top;\n",
       "    }\n",
       "\n",
       "    .dataframe thead th {\n",
       "        text-align: right;\n",
       "    }\n",
       "</style>\n",
       "<table border=\"1\" class=\"dataframe\">\n",
       "  <thead>\n",
       "    <tr style=\"text-align: right;\">\n",
       "      <th></th>\n",
       "      <th>question</th>\n",
       "      <th>context</th>\n",
       "      <th>encoded</th>\n",
       "      <th>tok_type</th>\n",
       "    </tr>\n",
       "  </thead>\n",
       "  <tbody>\n",
       "    <tr>\n",
       "      <th>0</th>\n",
       "      <td>When did the last country to adopt the Gregori...</td>\n",
       "      <td>\"Old Style\" (OS) and \"New Style\" (NS) are some...</td>\n",
       "      <td>[101, 2043, 2106, 1996, 2197, 2406, 2000, 1109...</td>\n",
       "      <td>[0, 0, 0, 0, 0, 0, 0, 0, 0, 0, 0, 0, 0, 0, 0, ...</td>\n",
       "    </tr>\n",
       "    <tr>\n",
       "      <th>1</th>\n",
       "      <td>When did the last country to adopt the Gregori...</td>\n",
       "      <td>During the period between 1582, when the first...</td>\n",
       "      <td>[101, 2043, 2106, 1996, 2197, 2406, 2000, 1109...</td>\n",
       "      <td>[0, 0, 0, 0, 0, 0, 0, 0, 0, 0, 0, 0, 0, 0, 0, ...</td>\n",
       "    </tr>\n",
       "    <tr>\n",
       "      <th>2</th>\n",
       "      <td>When did the last country to adopt the Gregori...</td>\n",
       "      <td>In conjunction with the system of months there...</td>\n",
       "      <td>[101, 2043, 2106, 1996, 2197, 2406, 2000, 1109...</td>\n",
       "      <td>[0, 0, 0, 0, 0, 0, 0, 0, 0, 0, 0, 0, 0, 0, 0, ...</td>\n",
       "    </tr>\n",
       "  </tbody>\n",
       "</table>\n",
       "</div>"
      ],
      "text/plain": [
       "                                            question  \\\n",
       "0  When did the last country to adopt the Gregori...   \n",
       "1  When did the last country to adopt the Gregori...   \n",
       "2  When did the last country to adopt the Gregori...   \n",
       "\n",
       "                                             context  \\\n",
       "0  \"Old Style\" (OS) and \"New Style\" (NS) are some...   \n",
       "1  During the period between 1582, when the first...   \n",
       "2  In conjunction with the system of months there...   \n",
       "\n",
       "                                             encoded  \\\n",
       "0  [101, 2043, 2106, 1996, 2197, 2406, 2000, 1109...   \n",
       "1  [101, 2043, 2106, 1996, 2197, 2406, 2000, 1109...   \n",
       "2  [101, 2043, 2106, 1996, 2197, 2406, 2000, 1109...   \n",
       "\n",
       "                                            tok_type  \n",
       "0  [0, 0, 0, 0, 0, 0, 0, 0, 0, 0, 0, 0, 0, 0, 0, ...  \n",
       "1  [0, 0, 0, 0, 0, 0, 0, 0, 0, 0, 0, 0, 0, 0, 0, ...  \n",
       "2  [0, 0, 0, 0, 0, 0, 0, 0, 0, 0, 0, 0, 0, 0, 0, ...  "
      ]
     },
     "execution_count": 14,
     "metadata": {},
     "output_type": "execute_result"
    }
   ],
   "source": [
    "question_df[\"encoded\"] = question_df.apply(lambda row: tokenizer.encode(\"[CLS] \" + row[\"question\"] + \" [SEP] \" + row[\"context\"] + \" [SEP]\", add_special_tokens=False), axis=1)\n",
    "question_df[\"tok_type\"] = question_df.apply(lambda row: [0 if i <= row[\"encoded\"].index(102) else 1 for i in range(len(row[\"encoded\"]))], axis=1)\n",
    "question_df.iloc[:3]"
   ]
  },
  {
   "cell_type": "code",
   "execution_count": 15,
   "metadata": {},
   "outputs": [
    {
     "name": "stdout",
     "output_type": "stream",
     "text": [
      "CPU times: user 26.9 ms, sys: 3.67 ms, total: 30.6 ms\n",
      "Wall time: 29.4 ms\n"
     ]
    }
   ],
   "source": [
    "%%time\n",
    "with torch.no_grad():\n",
    "    X = torch.nn.utils.rnn.pad_sequence([torch.tensor(row) for row in question_df[\"encoded\"]], batch_first=True).to(device)\n",
    "    T = torch.nn.utils.rnn.pad_sequence([torch.tensor(row) for row in question_df[\"tok_type\"]], batch_first=True).to(device)\n",
    "    start_scores, end_scores = model(X, token_type_ids=T)\n",
    "    max_score, max_start = torch.max(start_scores, axis=1)\n",
    "    soft_max = F.softmax(max_score, dim=0)"
   ]
  },
  {
   "cell_type": "code",
   "execution_count": 16,
   "metadata": {},
   "outputs": [
    {
     "data": {
      "text/html": [
       "<div>\n",
       "<style scoped>\n",
       "    .dataframe tbody tr th:only-of-type {\n",
       "        vertical-align: middle;\n",
       "    }\n",
       "\n",
       "    .dataframe tbody tr th {\n",
       "        vertical-align: top;\n",
       "    }\n",
       "\n",
       "    .dataframe thead th {\n",
       "        text-align: right;\n",
       "    }\n",
       "</style>\n",
       "<table border=\"1\" class=\"dataframe\">\n",
       "  <thead>\n",
       "    <tr style=\"text-align: right;\">\n",
       "      <th></th>\n",
       "      <th>context</th>\n",
       "      <th>encoded</th>\n",
       "      <th>answer_score</th>\n",
       "      <th>answer_start</th>\n",
       "      <th>answer_softmax</th>\n",
       "    </tr>\n",
       "  </thead>\n",
       "  <tbody>\n",
       "    <tr>\n",
       "      <th>0</th>\n",
       "      <td>\"Old Style\" (OS) and \"New Style\" (NS) are some...</td>\n",
       "      <td>[101, 2043, 2106, 1996, 2197, 2406, 2000, 1109...</td>\n",
       "      <td>-1.351556</td>\n",
       "      <td>158</td>\n",
       "      <td>0.000063</td>\n",
       "    </tr>\n",
       "    <tr>\n",
       "      <th>1</th>\n",
       "      <td>During the period between 1582, when the first...</td>\n",
       "      <td>[101, 2043, 2106, 1996, 2197, 2406, 2000, 1109...</td>\n",
       "      <td>8.141849</td>\n",
       "      <td>33</td>\n",
       "      <td>0.834725</td>\n",
       "    </tr>\n",
       "    <tr>\n",
       "      <th>2</th>\n",
       "      <td>In conjunction with the system of months there...</td>\n",
       "      <td>[101, 2043, 2106, 1996, 2197, 2406, 2000, 1109...</td>\n",
       "      <td>4.786901</td>\n",
       "      <td>138</td>\n",
       "      <td>0.029141</td>\n",
       "    </tr>\n",
       "    <tr>\n",
       "      <th>3</th>\n",
       "      <td>Extending the Gregorian calendar backwards to ...</td>\n",
       "      <td>[101, 2043, 2106, 1996, 2197, 2406, 2000, 1109...</td>\n",
       "      <td>3.780912</td>\n",
       "      <td>53</td>\n",
       "      <td>0.010656</td>\n",
       "    </tr>\n",
       "    <tr>\n",
       "      <th>4</th>\n",
       "      <td>Most Western European countries changed the st...</td>\n",
       "      <td>[101, 2043, 2106, 1996, 2197, 2406, 2000, 1109...</td>\n",
       "      <td>2.163963</td>\n",
       "      <td>124</td>\n",
       "      <td>0.002115</td>\n",
       "    </tr>\n",
       "    <tr>\n",
       "      <th>5</th>\n",
       "      <td>The Gregorian calendar is a solar calendar. A ...</td>\n",
       "      <td>[101, 2043, 2106, 1996, 2197, 2406, 2000, 1109...</td>\n",
       "      <td>-0.118200</td>\n",
       "      <td>161</td>\n",
       "      <td>0.000216</td>\n",
       "    </tr>\n",
       "    <tr>\n",
       "      <th>6</th>\n",
       "      <td>Prior to 1917, Turkey used the lunar Islamic c...</td>\n",
       "      <td>[101, 2043, 2106, 1996, 2197, 2406, 2000, 1109...</td>\n",
       "      <td>3.997773</td>\n",
       "      <td>125</td>\n",
       "      <td>0.013237</td>\n",
       "    </tr>\n",
       "    <tr>\n",
       "      <th>7</th>\n",
       "      <td>The Gregorian calendar improves the approximat...</td>\n",
       "      <td>[101, 2043, 2106, 1996, 2197, 2406, 2000, 1109...</td>\n",
       "      <td>-1.628915</td>\n",
       "      <td>115</td>\n",
       "      <td>0.000048</td>\n",
       "    </tr>\n",
       "    <tr>\n",
       "      <th>8</th>\n",
       "      <td>Philip II of Spain decreed the change from the...</td>\n",
       "      <td>[101, 2043, 2106, 1996, 2197, 2406, 2000, 1109...</td>\n",
       "      <td>6.112623</td>\n",
       "      <td>112</td>\n",
       "      <td>0.109714</td>\n",
       "    </tr>\n",
       "    <tr>\n",
       "      <th>9</th>\n",
       "      <td>In addition to the change in the mean length o...</td>\n",
       "      <td>[101, 2043, 2106, 1996, 2197, 2406, 2000, 1109...</td>\n",
       "      <td>-1.050624</td>\n",
       "      <td>164</td>\n",
       "      <td>0.000085</td>\n",
       "    </tr>\n",
       "  </tbody>\n",
       "</table>\n",
       "</div>"
      ],
      "text/plain": [
       "                                             context  \\\n",
       "0  \"Old Style\" (OS) and \"New Style\" (NS) are some...   \n",
       "1  During the period between 1582, when the first...   \n",
       "2  In conjunction with the system of months there...   \n",
       "3  Extending the Gregorian calendar backwards to ...   \n",
       "4  Most Western European countries changed the st...   \n",
       "5  The Gregorian calendar is a solar calendar. A ...   \n",
       "6  Prior to 1917, Turkey used the lunar Islamic c...   \n",
       "7  The Gregorian calendar improves the approximat...   \n",
       "8  Philip II of Spain decreed the change from the...   \n",
       "9  In addition to the change in the mean length o...   \n",
       "\n",
       "                                             encoded  answer_score  \\\n",
       "0  [101, 2043, 2106, 1996, 2197, 2406, 2000, 1109...     -1.351556   \n",
       "1  [101, 2043, 2106, 1996, 2197, 2406, 2000, 1109...      8.141849   \n",
       "2  [101, 2043, 2106, 1996, 2197, 2406, 2000, 1109...      4.786901   \n",
       "3  [101, 2043, 2106, 1996, 2197, 2406, 2000, 1109...      3.780912   \n",
       "4  [101, 2043, 2106, 1996, 2197, 2406, 2000, 1109...      2.163963   \n",
       "5  [101, 2043, 2106, 1996, 2197, 2406, 2000, 1109...     -0.118200   \n",
       "6  [101, 2043, 2106, 1996, 2197, 2406, 2000, 1109...      3.997773   \n",
       "7  [101, 2043, 2106, 1996, 2197, 2406, 2000, 1109...     -1.628915   \n",
       "8  [101, 2043, 2106, 1996, 2197, 2406, 2000, 1109...      6.112623   \n",
       "9  [101, 2043, 2106, 1996, 2197, 2406, 2000, 1109...     -1.050624   \n",
       "\n",
       "   answer_start  answer_softmax  \n",
       "0           158        0.000063  \n",
       "1            33        0.834725  \n",
       "2           138        0.029141  \n",
       "3            53        0.010656  \n",
       "4           124        0.002115  \n",
       "5           161        0.000216  \n",
       "6           125        0.013237  \n",
       "7           115        0.000048  \n",
       "8           112        0.109714  \n",
       "9           164        0.000085  "
      ]
     },
     "execution_count": 16,
     "metadata": {},
     "output_type": "execute_result"
    }
   ],
   "source": [
    "answer_df = question_df[[\"context\", \"encoded\"]].copy()\n",
    "answer_df[\"answer_score\"] = max_score.cpu().numpy()\n",
    "answer_df[\"answer_start\"] = max_start.cpu().numpy()\n",
    "answer_df[\"answer_softmax\"] = soft_max.cpu().numpy()\n",
    "answer_df"
   ]
  },
  {
   "cell_type": "code",
   "execution_count": 17,
   "metadata": {},
   "outputs": [],
   "source": [
    "max_len = torch.zeros_like(max_start)\n",
    "for i in range(max_start.shape[0]):\n",
    "    max_len[i] = torch.argmax(end_scores[i,max_start[i]:]) + 1\n",
    "    \n",
    "answer_df[\"answer_length\"] = max_len.cpu().numpy()"
   ]
  },
  {
   "cell_type": "code",
   "execution_count": 18,
   "metadata": {},
   "outputs": [
    {
     "data": {
      "text/html": [
       "<div>\n",
       "<style scoped>\n",
       "    .dataframe tbody tr th:only-of-type {\n",
       "        vertical-align: middle;\n",
       "    }\n",
       "\n",
       "    .dataframe tbody tr th {\n",
       "        vertical-align: top;\n",
       "    }\n",
       "\n",
       "    .dataframe thead th {\n",
       "        text-align: right;\n",
       "    }\n",
       "</style>\n",
       "<table border=\"1\" class=\"dataframe\">\n",
       "  <thead>\n",
       "    <tr style=\"text-align: right;\">\n",
       "      <th></th>\n",
       "      <th>context</th>\n",
       "      <th>encoded</th>\n",
       "      <th>answer_score</th>\n",
       "      <th>answer_start</th>\n",
       "      <th>answer_softmax</th>\n",
       "      <th>answer_length</th>\n",
       "    </tr>\n",
       "  </thead>\n",
       "  <tbody>\n",
       "    <tr>\n",
       "      <th>1</th>\n",
       "      <td>During the period between 1582, when the first...</td>\n",
       "      <td>[101, 2043, 2106, 1996, 2197, 2406, 2000, 1109...</td>\n",
       "      <td>8.141849</td>\n",
       "      <td>33</td>\n",
       "      <td>0.834725</td>\n",
       "      <td>1</td>\n",
       "    </tr>\n",
       "    <tr>\n",
       "      <th>8</th>\n",
       "      <td>Philip II of Spain decreed the change from the...</td>\n",
       "      <td>[101, 2043, 2106, 1996, 2197, 2406, 2000, 1109...</td>\n",
       "      <td>6.112623</td>\n",
       "      <td>112</td>\n",
       "      <td>0.109714</td>\n",
       "      <td>4</td>\n",
       "    </tr>\n",
       "    <tr>\n",
       "      <th>2</th>\n",
       "      <td>In conjunction with the system of months there...</td>\n",
       "      <td>[101, 2043, 2106, 1996, 2197, 2406, 2000, 1109...</td>\n",
       "      <td>4.786901</td>\n",
       "      <td>138</td>\n",
       "      <td>0.029141</td>\n",
       "      <td>4</td>\n",
       "    </tr>\n",
       "    <tr>\n",
       "      <th>6</th>\n",
       "      <td>Prior to 1917, Turkey used the lunar Islamic c...</td>\n",
       "      <td>[101, 2043, 2106, 1996, 2197, 2406, 2000, 1109...</td>\n",
       "      <td>3.997773</td>\n",
       "      <td>125</td>\n",
       "      <td>0.013237</td>\n",
       "      <td>3</td>\n",
       "    </tr>\n",
       "    <tr>\n",
       "      <th>3</th>\n",
       "      <td>Extending the Gregorian calendar backwards to ...</td>\n",
       "      <td>[101, 2043, 2106, 1996, 2197, 2406, 2000, 1109...</td>\n",
       "      <td>3.780912</td>\n",
       "      <td>53</td>\n",
       "      <td>0.010656</td>\n",
       "      <td>4</td>\n",
       "    </tr>\n",
       "  </tbody>\n",
       "</table>\n",
       "</div>"
      ],
      "text/plain": [
       "                                             context  \\\n",
       "1  During the period between 1582, when the first...   \n",
       "8  Philip II of Spain decreed the change from the...   \n",
       "2  In conjunction with the system of months there...   \n",
       "6  Prior to 1917, Turkey used the lunar Islamic c...   \n",
       "3  Extending the Gregorian calendar backwards to ...   \n",
       "\n",
       "                                             encoded  answer_score  \\\n",
       "1  [101, 2043, 2106, 1996, 2197, 2406, 2000, 1109...      8.141849   \n",
       "8  [101, 2043, 2106, 1996, 2197, 2406, 2000, 1109...      6.112623   \n",
       "2  [101, 2043, 2106, 1996, 2197, 2406, 2000, 1109...      4.786901   \n",
       "6  [101, 2043, 2106, 1996, 2197, 2406, 2000, 1109...      3.997773   \n",
       "3  [101, 2043, 2106, 1996, 2197, 2406, 2000, 1109...      3.780912   \n",
       "\n",
       "   answer_start  answer_softmax  answer_length  \n",
       "1            33        0.834725              1  \n",
       "8           112        0.109714              4  \n",
       "2           138        0.029141              4  \n",
       "6           125        0.013237              3  \n",
       "3            53        0.010656              4  "
      ]
     },
     "execution_count": 18,
     "metadata": {},
     "output_type": "execute_result"
    }
   ],
   "source": [
    "answer_df = answer_df[answer_df.answer_score > 1.0].sort_values(by=\"answer_score\", ascending=False)\n",
    "answer_df.head()"
   ]
  },
  {
   "cell_type": "code",
   "execution_count": 19,
   "metadata": {},
   "outputs": [],
   "source": [
    "def decode_answer(row):\n",
    "    input_ids = row.encoded\n",
    "    offset = row.answer_start\n",
    "    length = np.clip(row.answer_length, 0, 20)\n",
    "    return tokenizer.decode(input_ids[offset:][:length])"
   ]
  },
  {
   "cell_type": "code",
   "execution_count": 20,
   "metadata": {},
   "outputs": [
    {
     "data": {
      "text/html": [
       "<div>\n",
       "<style scoped>\n",
       "    .dataframe tbody tr th:only-of-type {\n",
       "        vertical-align: middle;\n",
       "    }\n",
       "\n",
       "    .dataframe tbody tr th {\n",
       "        vertical-align: top;\n",
       "    }\n",
       "\n",
       "    .dataframe thead th {\n",
       "        text-align: right;\n",
       "    }\n",
       "</style>\n",
       "<table border=\"1\" class=\"dataframe\">\n",
       "  <thead>\n",
       "    <tr style=\"text-align: right;\">\n",
       "      <th></th>\n",
       "      <th>answer_softmax</th>\n",
       "      <th>answer_score</th>\n",
       "      <th>answer</th>\n",
       "    </tr>\n",
       "  </thead>\n",
       "  <tbody>\n",
       "    <tr>\n",
       "      <th>1</th>\n",
       "      <td>0.834725</td>\n",
       "      <td>8.141849</td>\n",
       "      <td>1923</td>\n",
       "    </tr>\n",
       "    <tr>\n",
       "      <th>8</th>\n",
       "      <td>0.109714</td>\n",
       "      <td>6.112623</td>\n",
       "      <td>15 october 1582</td>\n",
       "    </tr>\n",
       "    <tr>\n",
       "      <th>2</th>\n",
       "      <td>0.029141</td>\n",
       "      <td>4.786901</td>\n",
       "      <td>4 october 1582</td>\n",
       "    </tr>\n",
       "    <tr>\n",
       "      <th>6</th>\n",
       "      <td>0.013237</td>\n",
       "      <td>3.997773</td>\n",
       "      <td>1 january 1926</td>\n",
       "    </tr>\n",
       "    <tr>\n",
       "      <th>3</th>\n",
       "      <td>0.010656</td>\n",
       "      <td>3.780912</td>\n",
       "      <td>15 october 1582</td>\n",
       "    </tr>\n",
       "  </tbody>\n",
       "</table>\n",
       "</div>"
      ],
      "text/plain": [
       "   answer_softmax  answer_score           answer\n",
       "1        0.834725      8.141849             1923\n",
       "8        0.109714      6.112623  15 october 1582\n",
       "2        0.029141      4.786901   4 october 1582\n",
       "6        0.013237      3.997773   1 january 1926\n",
       "3        0.010656      3.780912  15 october 1582"
      ]
     },
     "execution_count": 20,
     "metadata": {},
     "output_type": "execute_result"
    }
   ],
   "source": [
    "answer_df[\"answer\"] = answer_df.apply(decode_answer, axis=1)\n",
    "answer_df[[\"answer_softmax\", \"answer_score\", \"answer\"]].head()"
   ]
  },
  {
   "cell_type": "code",
   "execution_count": 21,
   "metadata": {},
   "outputs": [
    {
     "data": {
      "text/plain": [
       "[{'answer_softmax': 0.8347245454788208,\n",
       "  'answer_score': 8.14184856414795,\n",
       "  'answer': '1923',\n",
       "  'context': 'During the period between 1582, when the first countries adopted the Gregorian calendar, and 1923, when the last European country adopted it, it was often necessary to indicate the date of some event in both the Julian calendar and in the Gregorian calendar, for example, \"10/21 February 1750/51\", where the dual year accounts for some countries already beginning their numbered year on 1 January while others were still using some other date. Even before 1582, the year sometimes had to be double dated because of the different beginnings of the year in various countries. Woolley, writing in his biography of John Dee (1527–1608/9), notes that immediately after 1582 English letter writers \"customarily\" used \"two dates\" on their letters, one OS and one NS.'},\n",
       " {'answer_softmax': 0.10971388220787048,\n",
       "  'answer_score': 6.1126227378845215,\n",
       "  'answer': '15 october 1582',\n",
       "  'context': 'Philip II of Spain decreed the change from the Julian to the Gregorian calendar, which affected much of Roman Catholic Europe, as Philip was at the time ruler over Spain and Portugal as well as much of Italy. In these territories, as well as in the Polish–Lithuanian Commonwealth (ruled by Anna Jagiellon) and in the Papal States, the new calendar was implemented on the date specified by the bull, with Julian Thursday, 4 October 1582, being followed by Gregorian Friday, 15 October 1582. The Spanish and Portuguese colonies followed somewhat later de facto because of delay in communication.'},\n",
       " {'answer_softmax': 0.02914123423397541,\n",
       "  'answer_score': 4.786900997161865,\n",
       "  'answer': '4 october 1582',\n",
       "  'context': \"In conjunction with the system of months there is a system of weeks. A physical or electronic calendar provides conversion from a given date to the weekday, and shows multiple dates for a given weekday and month. Calculating the day of the week is not very simple, because of the irregularities in the Gregorian system. When the Gregorian calendar was adopted by each country, the weekly cycle continued uninterrupted. For example, in the case of the few countries that adopted the reformed calendar on the date proposed by Gregory XIII for the calendar's adoption, Friday, 15 October 1582, the preceding date was Thursday, 4 October 1582 (Julian calendar).\"}]"
      ]
     },
     "execution_count": 21,
     "metadata": {},
     "output_type": "execute_result"
    }
   ],
   "source": [
    "answer_df[[\"answer_softmax\", \"answer_score\", \"answer\", \"context\"]].iloc[:3].to_dict(orient=\"records\")"
   ]
  },
  {
   "cell_type": "markdown",
   "metadata": {},
   "source": [
    "## Bonus: Questionable Web Service\n",
    "\n",
    "Start a terminal from the jupyter file manager and create a new Terminal to run:\n",
    "\n",
    "```\n",
    "pip install flask\n",
    "python questionable.py\n",
    "```"
   ]
  },
  {
   "cell_type": "code",
   "execution_count": 23,
   "metadata": {},
   "outputs": [
    {
     "name": "stdout",
     "output_type": "stream",
     "text": [
      "  % Total    % Received % Xferd  Average Speed   Time    Time     Time  Current\n",
      "                                 Dload  Upload   Total   Spent    Left  Speed\n",
      "100  1633  100  1633    0     0   1776      0 --:--:-- --:--:-- --:--:--  1775\n",
      "Wide character in print at /usr/bin/json_pp line 82, <STDIN> chunk 1.\n",
      "[\n",
      "   {\n",
      "      \"answer_score\" : 8.0448360443,\n",
      "      \"answer_length\" : 1,\n",
      "      \"answer_softmax\" : 0.809645772,\n",
      "      \"answer\" : \"1923\",\n",
      "      \"context\" : \"During the period between 1582, when the first countries adopted the Gregorian calendar, and 1923, when the last European country adopted it, it was often necessary to indicate the date of some event in both the Julian calendar and in the Gregorian calendar, for example, \\\"10/21 February 1750/51\\\", where the dual year accounts for some countries already beginning their numbered year on 1 January while others were still using some other date. Even before 1582, the year sometimes had to be double dated because of the different beginnings of the year in various countries. Woolley, writing in his biography of John Dee (1527–1608/9), notes that immediately after 1582 English letter writers \\\"customarily\\\" used \\\"two dates\\\" on their letters, one OS and one NS.\",\n",
      "      \"answer_start\" : 34\n",
      "   },\n",
      "   {\n",
      "      \"answer_softmax\" : 0.1257594377,\n",
      "      \"context\" : \"Philip II of Spain decreed the change from the Julian to the Gregorian calendar, which affected much of Roman Catholic Europe, as Philip was at the time ruler over Spain and Portugal as well as much of Italy. In these territories, as well as in the Polish–Lithuanian Commonwealth (ruled by Anna Jagiellon) and in the Papal States, the new calendar was implemented on the date specified by the bull, with Julian Thursday, 4 October 1582, being followed by Gregorian Friday, 15 October 1582. The Spanish and Portuguese colonies followed somewhat later de facto because of delay in communication.\",\n",
      "      \"answer\" : \"15 october 1582\",\n",
      "      \"answer_score\" : 6.1826100349,\n",
      "      \"answer_length\" : 4,\n",
      "      \"answer_start\" : 113\n",
      "   }\n",
      "]\n"
     ]
    }
   ],
   "source": [
    "! curl -G http://localhost:8765/answer \\\n",
    "        --data-urlencode \"q=When did the last country to adopt the Gregorian calendar start using it?\" \\\n",
    "        | json_pp"
   ]
  },
  {
   "cell_type": "code",
   "execution_count": null,
   "metadata": {},
   "outputs": [],
   "source": []
  }
 ],
 "metadata": {
  "kernelspec": {
   "display_name": "Python 3",
   "language": "python",
   "name": "python3"
  },
  "language_info": {
   "codemirror_mode": {
    "name": "ipython",
    "version": 3
   },
   "file_extension": ".py",
   "mimetype": "text/x-python",
   "name": "python",
   "nbconvert_exporter": "python",
   "pygments_lexer": "ipython3",
   "version": "3.6.8"
  }
 },
 "nbformat": 4,
 "nbformat_minor": 2
}
